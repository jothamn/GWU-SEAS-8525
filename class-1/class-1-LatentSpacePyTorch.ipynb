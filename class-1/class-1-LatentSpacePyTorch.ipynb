{
  "nbformat": 4,
  "nbformat_minor": 0,
  "metadata": {
    "colab": {
      "provenance": [],
      "machine_shape": "hm",
      "gpuType": "T4",
      "include_colab_link": true
    },
    "kernelspec": {
      "name": "python3",
      "display_name": "Python 3"
    },
    "language_info": {
      "name": "python"
    },
    "accelerator": "GPU"
  },
  "cells": [
    {
      "cell_type": "markdown",
      "metadata": {
        "id": "view-in-github",
        "colab_type": "text"
      },
      "source": [
        "<a href=\"https://colab.research.google.com/github/nispoe/GWU-SEAS-8525/blob/main/class-1/class-1-LatentSpacePyTorch.ipynb\" target=\"_parent\"><img src=\"https://colab.research.google.com/assets/colab-badge.svg\" alt=\"Open In Colab\"/></a>"
      ]
    },
    {
      "cell_type": "markdown",
      "source": [
        "The provided code defines and utilizes an Autoencoder neural network for the MNIST dataset. Here's a detailed explanation:\n",
        "\n",
        "- **Autoencoder Class**: This class creates a neural network with encoder and decoder components. The encoder compresses the input image into a lower-dimensional latent space, and the decoder reconstructs the image from this latent space. The network is structured to flatten and process 28x28 grayscale MNIST images.\n",
        "\n",
        "- **Data Loading**: Utilizes PyTorch's DataLoader to efficiently load the MNIST dataset, applying transformations to normalize the images.\n",
        "\n",
        "- **Training Loop**: Iterates over the training dataset, feeding batches of images through the model, calculating the reconstruction loss, and updating the model's weights to minimize this loss, effectively learning to compress and reconstruct the input images.\n",
        "\n",
        "- **Visualization**: After training, the script visualizes a batch of original images and their reconstructions from the autoencoder. It also prints the latent space representations, showcasing what the model has learned to encode.\n",
        "\n",
        "- **Utility Functions**: Includes `imshow` for displaying tensors as images. It unnormalizes the data and uses Matplotlib to plot them.\n",
        "\n",
        "This script encapsulates the end-to-end process of training an autoencoder on the MNIST dataset, visualizing the results, and examining the learned latent space."
      ],
      "metadata": {
        "id": "MXble1sY6GuN"
      }
    },
    {
      "cell_type": "code",
      "source": [
        "import torch\n",
        "import torch.nn as nn\n",
        "import torchvision\n",
        "import torchvision.transforms as transforms\n",
        "from torchvision.datasets import MNIST\n",
        "from torch.utils.data import DataLoader\n",
        "import matplotlib.pyplot as plt\n",
        "import torchvision.utils as vutils\n",
        "import numpy as np"
      ],
      "metadata": {
        "id": "QTp8sYxwBg-1"
      },
      "execution_count": 31,
      "outputs": []
    },
    {
      "cell_type": "markdown",
      "source": [
        " The `Autoencoder` class inherits from `nn.Module`, a base class for all neural network modules in PyTorch. Here's a breakdown of the code and its functionality:\n",
        "\n",
        "### Initialization Method (`__init__`)\n",
        "- **Parameters**: The `__init__` method accepts a single parameter `encoding_dim`, which specifies the size of the latent space where the input data is compressed.\n",
        "- **Encoder**: The encoder part of the autoencoder is designed to compress the input data (in this case, an image) into a lower-dimensional representation called the latent space. It consists of a sequence of layers:\n",
        "  - `nn.Linear(28 * 28, 128)`: This layer flattens the input image (assumed to be 28x28 pixels, typical for MNIST dataset images) into a one-dimensional array and performs a linear transformation to reduce its dimension to 128.\n",
        "  - `nn.ReLU(True)`: A Rectified Linear Unit (ReLU) activation function is applied to introduce non-linearity, helping the model learn complex patterns.\n",
        "  - Another `nn.Linear(128, encoding_dim)`: Further reduces the dimension from 128 to the specified `encoding_dim`.\n",
        "  - Another `nn.ReLU(True)`: Another ReLU activation for non-linearity.\n",
        "- **Decoder**: The decoder part reconstructs the original input data from the compressed representation. It mirrors the encoder structure but in reverse, aiming to expand the compressed data back to its original shape:\n",
        "  - `nn.Linear(encoding_dim, 128)`: Expands the compressed data from `encoding_dim` back to 128.\n",
        "  - `nn.ReLU(True)`: Applies ReLU activation.\n",
        "  - `nn.Linear(128, 28 * 28)`: Transforms the data from 128 back to the flattened image size of 784 (28x28).\n",
        "  - `nn.Sigmoid()`: Applies a sigmoid activation function to ensure the output values are between 0 and 1, suitable for image data where pixel values typically fall within this range.\n",
        "\n",
        "### Forward Method (`forward`)\n",
        "- **Parameter**: The `forward` method defines how the input `x` flows through the network.\n",
        "- **Process**:\n",
        "  - `x.view(-1, 28*28)`: First, the input `x` is reshaped into a one-dimensional array (flattened) if not already done.\n",
        "  - `self.encoder(x)`: The flattened `x` is then passed through the encoder.\n",
        "  - `self.decoder(x)`: The output from the encoder, which is the compressed representation, is fed into the decoder.\n",
        "- **Output**: The final output is reshaped back to the original image dimensions (`-1, 1, 28, 28`), where `-1` is a placeholder that automatically adjusts based on the batch size.\n"
      ],
      "metadata": {
        "id": "Lth1Gula4Sz_"
      }
    },
    {
      "cell_type": "code",
      "source": [
        "class Autoencoder(nn.Module):\n",
        "    def __init__(self, encoding_dim):\n",
        "        super(Autoencoder, self).__init__()\n",
        "        # Encoder: compresses the image into a lower-dimensional latent space\n",
        "        self.encoder = nn.Sequential(\n",
        "            nn.Linear(28 * 28, 128),  # Flatten the image and then linearly transform it\n",
        "            nn.ReLU(True),  # Non-linear activation function\n",
        "            nn.Linear(128, encoding_dim),  # Linear transformation to the encoding dimension\n",
        "            nn.ReLU(True)  # Non-linear activation function\n",
        "        )\n",
        "        # Decoder: reconstructs the image from the latent space\n",
        "        self.decoder = nn.Sequential(\n",
        "            nn.Linear(encoding_dim, 128),  # Linearly transforms the encoding\n",
        "            nn.ReLU(True),  # Non-linear activation function\n",
        "            nn.Linear(128, 28 * 28),  # Transforms back to original image shape\n",
        "            nn.Sigmoid()  # Sigmoid activation to output values between 0 and 1\n",
        "        )\n",
        "\n",
        "    def forward(self, x):\n",
        "        x = self.encoder(x.view(-1, 28*28))  # Encode the input image\n",
        "        x = self.decoder(x)  # Decode the encoded image\n",
        "        return x.view(-1, 1, 28, 28)  # Reshape to the original image dimensions"
      ],
      "metadata": {
        "id": "wWlX07fEBjL8"
      },
      "execution_count": 2,
      "outputs": []
    },
    {
      "cell_type": "code",
      "source": [
        "\n",
        "def imshow(img):\n",
        "    img = img.cpu() / 2 + 0.5  # Unnormalize the image\n",
        "    npimg = img.numpy()  # Convert the tensor to a numpy array\n",
        "    plt.imshow(np.transpose(npimg, (1, 2, 0)))  # Reshape and display the image\n",
        "    plt.show()"
      ],
      "metadata": {
        "id": "yP7S8PazBoD5"
      },
      "execution_count": 3,
      "outputs": []
    },
    {
      "cell_type": "code",
      "source": [
        "# Transform: converts images to PyTorch tensors and normalizes them\n",
        "transform = transforms.Compose([\n",
        "    transforms.ToTensor(),\n",
        "    transforms.Normalize((0.5,), (0.5,))\n",
        "])\n"
      ],
      "metadata": {
        "id": "yJAgqh0TBrMa"
      },
      "execution_count": 4,
      "outputs": []
    },
    {
      "cell_type": "code",
      "source": [
        "import os\n",
        "import urllib.request\n",
        "from torchvision.datasets import MNIST\n",
        "from torch.utils.data import DataLoader\n",
        "import torchvision.transforms as transforms\n",
        "\n",
        "mnist_dir = \"./data/MNIST/raw/\"\n",
        "os.makedirs(mnist_dir, exist_ok=True)\n",
        "\n",
        "base_url = \"https://github.com/nispoe/GWU-SEAS-8525/raw/main/class-1/\"\n",
        "files = [\n",
        "    \"train-images-idx3-ubyte.gz\",\n",
        "    \"train-labels-idx1-ubyte.gz\",\n",
        "    \"t10k-images-idx3-ubyte.gz\",\n",
        "    \"t10k-labels-idx1-ubyte.gz\"\n",
        "]\n",
        "\n",
        "for file in files:\n",
        "    file_path = os.path.join(mnist_dir, file)\n",
        "    if not os.path.exists(file_path):\n",
        "        print(f\"Downloading {file}...\")\n",
        "        urllib.request.urlretrieve(base_url + file, file_path)\n",
        "\n",
        "transform = transforms.Compose([transforms.ToTensor()])"
      ],
      "metadata": {
        "colab": {
          "base_uri": "https://localhost:8080/"
        },
        "id": "ou-25YXmrGFQ",
        "outputId": "c1db5158-6aa6-426c-cc6b-dbc71ec72324"
      },
      "execution_count": 5,
      "outputs": [
        {
          "output_type": "stream",
          "name": "stdout",
          "text": [
            "Downloading train-images-idx3-ubyte.gz...\n",
            "Downloading train-labels-idx1-ubyte.gz...\n",
            "Downloading t10k-images-idx3-ubyte.gz...\n",
            "Downloading t10k-labels-idx1-ubyte.gz...\n"
          ]
        }
      ]
    },
    {
      "cell_type": "code",
      "source": [
        "import gzip\n",
        "import shutil\n",
        "\n",
        "gz_files = [f for f in os.listdir(mnist_dir) if f.endswith(\".gz\")]\n",
        "\n",
        "for file in gz_files:\n",
        "    gz_path = os.path.join(mnist_dir, file)\n",
        "    output_path = gz_path.replace(\".gz\", \"\")  # Remove .gz extension\n",
        "\n",
        "    # Extract the file\n",
        "    with gzip.open(gz_path, 'rb') as f_in:\n",
        "        with open(output_path, 'wb') as f_out:\n",
        "            shutil.copyfileobj(f_in, f_out)"
      ],
      "metadata": {
        "id": "Ql170ZPyry6e"
      },
      "execution_count": 9,
      "outputs": []
    },
    {
      "cell_type": "code",
      "source": [
        "# MNIST dataset loading\n",
        "#train_dataset = MNIST(root='./data', train=True, download=True, transform=transform)\n",
        "train_dataset = MNIST(root='./data', train=True, download=False, transform=transform)\n",
        "train_loader = DataLoader(dataset=train_dataset, batch_size=64, shuffle=True)"
      ],
      "metadata": {
        "id": "cQpswSgnBw4E"
      },
      "execution_count": 27,
      "outputs": []
    },
    {
      "cell_type": "code",
      "source": [
        "device = torch.device(\"cuda\" if torch.cuda.is_available() else \"cpu\")\n",
        "model = Autoencoder(encoding_dim=64).to(device)\n",
        "criterion = nn.MSELoss()  # Loss function\n",
        "optimizer = torch.optim.Adam(model.parameters(), lr=1e-3)  # Optimizer"
      ],
      "metadata": {
        "id": "W8NemtCtB35p"
      },
      "execution_count": 28,
      "outputs": []
    },
    {
      "cell_type": "code",
      "source": [
        "from torch.amp import GradScaler, autocast  # Updated import\n",
        "\n",
        "# Correct way to initialize GradScaler\n",
        "scaler = GradScaler(device=\"cuda\")  # New syntax\n",
        "\n",
        "for epoch in range(num_epochs):\n",
        "    for data in train_loader:\n",
        "        img, _ = data\n",
        "        img = img.to(device)\n",
        "\n",
        "        with autocast(device_type=\"cuda\"):  # Updated syntax\n",
        "            output = model(img)\n",
        "            loss = criterion(output, img)\n",
        "\n",
        "        optimizer.zero_grad()\n",
        "        scaler.scale(loss).backward()\n",
        "        scaler.step(optimizer)\n",
        "        scaler.update()\n",
        "\n",
        "    print(f\"Epoch [{epoch+1}/{num_epochs}], Loss: {loss.item():.4f}\")"
      ],
      "metadata": {
        "colab": {
          "base_uri": "https://localhost:8080/"
        },
        "id": "GRk72snY6LPD",
        "outputId": "c016a691-742d-4748-b20f-1c367d19ad88"
      },
      "execution_count": 34,
      "outputs": [
        {
          "output_type": "stream",
          "name": "stdout",
          "text": [
            "Epoch [1/10], Loss: 0.0059\n",
            "Epoch [2/10], Loss: 0.0067\n",
            "Epoch [3/10], Loss: 0.0056\n",
            "Epoch [4/10], Loss: 0.0064\n",
            "Epoch [5/10], Loss: 0.0054\n",
            "Epoch [6/10], Loss: 0.0048\n",
            "Epoch [7/10], Loss: 0.0052\n",
            "Epoch [8/10], Loss: 0.0049\n",
            "Epoch [9/10], Loss: 0.0057\n",
            "Epoch [10/10], Loss: 0.0044\n"
          ]
        }
      ]
    },
    {
      "cell_type": "code",
      "source": [
        "# Visualization of the original and reconstructed images\n",
        "dataiter = iter(train_loader)\n",
        "images, _ = next(dataiter)\n",
        "images = images.to(device)\n",
        "\n",
        "# Display original images\n",
        "print(\"Original Images\")\n",
        "imshow(vutils.make_grid(images[:4], normalize=True))\n",
        "\n",
        "# Encoded and decoded images\n",
        "with torch.no_grad():\n",
        "    encoded_imgs = model.encoder(images.view(-1, 28*28)[:4])\n",
        "    decoded_imgs = model.decoder(encoded_imgs).view(-1, 1, 28, 28)\n",
        "\n",
        "\n",
        "# Display reconstructed images\n",
        "print(\"Original Representation\")\n",
        "print(img)\n",
        "\n",
        "# Print latent space\n",
        "print(\"Latent space representations:\")\n",
        "print(encoded_imgs)"
      ],
      "metadata": {
        "colab": {
          "base_uri": "https://localhost:8080/",
          "height": 1000
        },
        "id": "FCsJeFk2B2Fi",
        "outputId": "62057db1-a019-4318-8b6b-964d5645cad5"
      },
      "execution_count": 35,
      "outputs": [
        {
          "output_type": "stream",
          "name": "stdout",
          "text": [
            "Original Images\n"
          ]
        },
        {
          "output_type": "display_data",
          "data": {
            "text/plain": [
              "<Figure size 640x480 with 1 Axes>"
            ],
            "image/png": "[encoded data removed]"
          },
          "metadata": {}
        },
        {
          "output_type": "stream",
          "name": "stdout",
          "text": [
            "Original Representation\n",
            "tensor([[[[0., 0., 0.,  ..., 0., 0., 0.],\n",
            "          [0., 0., 0.,  ..., 0., 0., 0.],\n",
            "          [0., 0., 0.,  ..., 0., 0., 0.],\n",
            "          ...,\n",
            "          [0., 0., 0.,  ..., 0., 0., 0.],\n",
            "          [0., 0., 0.,  ..., 0., 0., 0.],\n",
            "          [0., 0., 0.,  ..., 0., 0., 0.]]],\n",
            "\n",
            "\n",
            "        [[[0., 0., 0.,  ..., 0., 0., 0.],\n",
            "          [0., 0., 0.,  ..., 0., 0., 0.],\n",
            "          [0., 0., 0.,  ..., 0., 0., 0.],\n",
            "          ...,\n",
            "          [0., 0., 0.,  ..., 0., 0., 0.],\n",
            "          [0., 0., 0.,  ..., 0., 0., 0.],\n",
            "          [0., 0., 0.,  ..., 0., 0., 0.]]],\n",
            "\n",
            "\n",
            "        [[[0., 0., 0.,  ..., 0., 0., 0.],\n",
            "          [0., 0., 0.,  ..., 0., 0., 0.],\n",
            "          [0., 0., 0.,  ..., 0., 0., 0.],\n",
            "          ...,\n",
            "          [0., 0., 0.,  ..., 0., 0., 0.],\n",
            "          [0., 0., 0.,  ..., 0., 0., 0.],\n",
            "          [0., 0., 0.,  ..., 0., 0., 0.]]],\n",
            "\n",
            "\n",
            "        ...,\n",
            "\n",
            "\n",
            "        [[[0., 0., 0.,  ..., 0., 0., 0.],\n",
            "          [0., 0., 0.,  ..., 0., 0., 0.],\n",
            "          [0., 0., 0.,  ..., 0., 0., 0.],\n",
            "          ...,\n",
            "          [0., 0., 0.,  ..., 0., 0., 0.],\n",
            "          [0., 0., 0.,  ..., 0., 0., 0.],\n",
            "          [0., 0., 0.,  ..., 0., 0., 0.]]],\n",
            "\n",
            "\n",
            "        [[[0., 0., 0.,  ..., 0., 0., 0.],\n",
            "          [0., 0., 0.,  ..., 0., 0., 0.],\n",
            "          [0., 0., 0.,  ..., 0., 0., 0.],\n",
            "          ...,\n",
            "          [0., 0., 0.,  ..., 0., 0., 0.],\n",
            "          [0., 0., 0.,  ..., 0., 0., 0.],\n",
            "          [0., 0., 0.,  ..., 0., 0., 0.]]],\n",
            "\n",
            "\n",
            "        [[[0., 0., 0.,  ..., 0., 0., 0.],\n",
            "          [0., 0., 0.,  ..., 0., 0., 0.],\n",
            "          [0., 0., 0.,  ..., 0., 0., 0.],\n",
            "          ...,\n",
            "          [0., 0., 0.,  ..., 0., 0., 0.],\n",
            "          [0., 0., 0.,  ..., 0., 0., 0.],\n",
            "          [0., 0., 0.,  ..., 0., 0., 0.]]]], device='cuda:0')\n",
            "Latent space representations:\n",
            "tensor([[ 6.2373,  3.4690,  0.0000,  8.1644,  2.9914,  1.2381,  5.7492,  2.6607,\n",
            "          4.8575,  8.6763,  5.4412,  6.7654,  0.0000,  5.9632,  6.1383,  4.9957,\n",
            "         11.8782,  6.1506,  6.9574,  3.7913,  6.9040,  5.5300,  7.3904, 10.0145,\n",
            "          9.7435,  0.0000,  3.2010,  5.3975,  4.4349,  0.0000,  0.0000,  4.5021,\n",
            "          3.5051,  6.4202,  0.0000,  3.9956,  0.0000,  0.0000,  0.0000,  7.8406,\n",
            "          7.0819,  2.9052,  6.7372,  4.0136,  4.9823,  3.3856,  0.0000,  6.8628,\n",
            "          2.5871,  8.9562,  5.9440,  7.8924,  2.8485,  1.5833,  0.0000,  8.8742,\n",
            "          0.0000,  4.4526,  8.8340,  5.8150,  0.0000,  4.0632,  2.6299, 10.7413],\n",
            "        [ 3.1117,  8.5995,  0.0000,  6.7618,  1.9294,  2.7794,  0.7567,  3.8842,\n",
            "          3.2376,  2.5242,  5.1355,  7.4762,  0.0000,  5.6599,  0.8018,  4.5165,\n",
            "          3.9576,  6.0123,  5.6386,  3.2526,  2.9985,  2.8776,  4.3042,  3.1811,\n",
            "          5.8372,  0.0000,  6.3662,  4.1644,  3.6374,  0.0000,  0.0000,  7.5207,\n",
            "          4.6248,  8.5524,  0.0000,  4.3178,  0.0000,  0.0000,  0.0000,  3.1623,\n",
            "          2.1862,  2.9757,  5.1999,  3.8119,  1.4913,  3.1633,  0.0000,  4.4684,\n",
            "          2.2972,  2.3695,  8.5143,  4.9852,  3.5147,  6.1798,  0.0000,  6.4382,\n",
            "          0.0000,  4.3233,  6.1351,  2.1123,  0.0000,  3.4716,  7.5503,  8.5156],\n",
            "        [ 5.5952,  5.8934,  0.0000,  5.5907,  3.1192,  8.9178,  6.3545,  3.4845,\n",
            "          1.6782,  4.8560,  3.0937,  4.0715,  0.0000,  5.0963,  3.3014,  5.1689,\n",
            "          3.8618,  4.7572,  5.3261,  2.6049,  2.4248,  2.8121,  4.1827,  0.8491,\n",
            "          6.1944,  0.0000,  0.1650,  5.4726,  2.9173,  0.0000,  0.0000,  3.0147,\n",
            "          5.7462,  1.8985,  0.0000,  4.7037,  0.0000,  0.0000,  0.0000, 10.3162,\n",
            "          2.3215,  4.0881,  3.7121,  6.6741,  1.8589,  2.2616,  0.0000,  8.2234,\n",
            "          3.4461,  1.8823,  7.2851,  2.4668,  6.1687,  5.6523,  0.0000,  3.8365,\n",
            "          0.0000,  1.6109,  5.4463,  5.8620,  0.0000,  1.0569,  3.2810,  1.3830],\n",
            "        [ 4.5110,  4.0107,  0.0000,  2.1068,  4.3244,  5.0772,  1.4014,  2.7574,\n",
            "          2.6478,  1.5147,  2.1405,  8.1096,  0.0000,  2.5024,  2.8860,  2.7879,\n",
            "          4.2101,  7.2706,  3.0305,  3.6666,  0.7090,  2.6775,  3.0821,  0.9136,\n",
            "          7.8846,  0.0000,  0.5517,  5.5474,  5.6241,  0.0000,  0.0000,  2.0093,\n",
            "          3.9299,  4.7456,  0.0000,  3.4213,  0.0000,  0.0000,  0.0000,  4.5278,\n",
            "          3.9275,  1.7048,  3.5271,  1.2009,  3.7785,  3.4519,  0.0000,  3.5345,\n",
            "          4.0866,  3.6159,  7.0356,  4.5853,  4.9820,  4.8914,  0.0000,  4.6649,\n",
            "          0.0000,  5.1622,  2.4454,  3.5844,  0.0000,  1.1942,  3.6656,  7.7192]],\n",
            "       device='cuda:0')\n"
          ]
        }
      ]
    }
  ]
}