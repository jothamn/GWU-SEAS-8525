{
  "nbformat": 4,
  "nbformat_minor": 0,
  "metadata": {
    "colab": {
      "provenance": [],
      "machine_shape": "hm",
      "gpuType": "A100",
      "authorship_tag": "ABX9TyNiLc8meTgUlT8HHgF6nDhK",
      "include_colab_link": true
    },
    "kernelspec": {
      "name": "python3",
      "display_name": "Python 3"
    },
    "language_info": {
      "name": "python"
    },
    "accelerator": "GPU"
  },
  "cells": [
    {
      "cell_type": "markdown",
      "metadata": {
        "id": "view-in-github",
        "colab_type": "text"
      },
      "source": [
        "<a href=\"https://colab.research.google.com/github/vijaygwu/SEAS8525/blob/main/Class_5_PixelCNN.ipynb\" target=\"_parent\"><img src=\"https://colab.research.google.com/assets/colab-badge.svg\" alt=\"Open In Colab\"/></a>"
      ]
    },
    {
      "cell_type": "markdown",
      "source": [
        "Addapted from the [book](https://https://github.com/davidADSP/Generative_Deep_Learning_2nd_Edition/tree/main)"
      ],
      "metadata": {
        "id": "UGFre0zCZGUq"
      }
    },
    {
      "cell_type": "markdown",
      "source": [
        "This code defines two functions:\n",
        "\n",
        "1. `sample_batch(dataset)`:\n",
        "   - Takes a `dataset` object as input.\n",
        "   - Retrieves a single batch from the dataset using `dataset.take(1).get_single_element()`.\n",
        "   - If the batch is a tuple, it extracts the first element of the tuple.\n",
        "   - Returns the batch as a NumPy array using `batch.numpy()`.\n",
        "\n",
        "2. `display(images, n=10, size=(20, 3), cmap=\"gray_r\", as_type=\"float32\", save_to=None)`:\n",
        "   - Takes an array of `images` and optional parameters for display configuration.\n",
        "   - Normalizes the pixel values of the images to the range [0, 1] if the maximum value is greater than 1.0, or to the range [-1, 1] if the minimum value is less than 0.0.\n",
        "   - Creates a figure with a specified size using `plt.figure(figsize=size)`.\n",
        "   - Iterates over `n` random images from the `images` array.\n",
        "   - Displays each image as a subplot using `plt.subplot(1, n, i + 1)` and `plt.imshow()`.\n",
        "   - Applies the specified colormap (`cmap`) and data type (`as_type`) to the displayed images.\n",
        "   - Removes the axis labels and ticks using `plt.axis(\"off\")`.\n",
        "   - If `save_to` is provided, saves the figure to the specified file path and prints a message.\n",
        "   - Finally, shows the plotted images using `plt.show()`.\n"
      ],
      "metadata": {
        "id": "29BPXxk2w1v4"
      }
    },
    {
      "cell_type": "code",
      "source": [
        "def sample_batch(dataset):\n",
        "    batch = dataset.take(1).get_single_element()\n",
        "    if isinstance(batch, tuple):\n",
        "        batch = batch[0]\n",
        "    return batch.numpy()\n",
        "\n",
        "\n",
        "def display(\n",
        "    images, n=10, size=(20, 3), cmap=\"gray_r\", as_type=\"float32\", save_to=None\n",
        "):\n",
        "    \"\"\"\n",
        "    Displays n random images from each one of the supplied arrays.\n",
        "    \"\"\"\n",
        "    if images.max() > 1.0:\n",
        "        images = images / 255.0\n",
        "    elif images.min() < 0.0:\n",
        "        images = (images + 1.0) / 2.0\n",
        "\n",
        "    plt.figure(figsize=size)\n",
        "    for i in range(n):\n",
        "        _ = plt.subplot(1, n, i + 1)\n",
        "        plt.imshow(images[i].astype(as_type), cmap=cmap)\n",
        "        plt.axis(\"off\")\n",
        "\n",
        "    if save_to:\n",
        "        plt.savefig(save_to)\n",
        "        print(f\"\\nSaved to {save_to}\")\n",
        "\n",
        "    plt.show()"
      ],
      "metadata": {
        "id": "tB_v_1Z8ZLKE"
      },
      "execution_count": null,
      "outputs": []
    },
    {
      "cell_type": "code",
      "source": [
        "%load_ext autoreload\n",
        "%autoreload 2\n",
        "import numpy as np\n",
        "\n",
        "import tensorflow as tf\n",
        "from tensorflow.keras import datasets, layers, models, optimizers, callbacks\n",
        "import matplotlib.pyplot as plt\n",
        "import matplotlib"
      ],
      "metadata": {
        "id": "Wv6Gj6blZcx4"
      },
      "execution_count": null,
      "outputs": []
    },
    {
      "cell_type": "code",
      "source": [
        "IMAGE_SIZE = 16\n",
        "PIXEL_LEVELS = 4\n",
        "N_FILTERS = 128\n",
        "RESIDUAL_BLOCKS = 5\n",
        "BATCH_SIZE = 128\n",
        "EPOCHS = 150"
      ],
      "metadata": {
        "id": "874FvkprZut1"
      },
      "execution_count": null,
      "outputs": []
    },
    {
      "cell_type": "code",
      "source": [
        "# Load the data\n",
        "(x_train, _), (_, _) = datasets.fashion_mnist.load_data()"
      ],
      "metadata": {
        "colab": {
          "base_uri": "https://localhost:8080/"
        },
        "id": "rO9yP6K7Zz1-",
        "outputId": "0b0b1616-09af-497b-f6a9-e187e286ecb5"
      },
      "execution_count": null,
      "outputs": [
        {
          "output_type": "stream",
          "name": "stdout",
          "text": [
            "Downloading data from https://storage.googleapis.com/tensorflow/tf-keras-datasets/train-labels-idx1-ubyte.gz\n",
            "29515/29515 [==============================] - 0s 0us/step\n",
            "Downloading data from https://storage.googleapis.com/tensorflow/tf-keras-datasets/train-images-idx3-ubyte.gz\n",
            "26421880/26421880 [==============================] - 2s 0us/step\n",
            "Downloading data from https://storage.googleapis.com/tensorflow/tf-keras-datasets/t10k-labels-idx1-ubyte.gz\n",
            "5148/5148 [==============================] - 0s 0us/step\n",
            "Downloading data from https://storage.googleapis.com/tensorflow/tf-keras-datasets/t10k-images-idx3-ubyte.gz\n",
            "4422102/4422102 [==============================] - 1s 0us/step\n"
          ]
        }
      ]
    },
    {
      "cell_type": "code",
      "source": [
        "# Preprocess the data\n",
        "def preprocess(imgs_int):\n",
        "    imgs_int = np.expand_dims(imgs_int, -1)\n",
        "    imgs_int = tf.image.resize(imgs_int, (IMAGE_SIZE, IMAGE_SIZE)).numpy()\n",
        "    imgs_int = (imgs_int / (256 / PIXEL_LEVELS)).astype(int)\n",
        "    imgs = imgs_int.astype(\"float32\")\n",
        "    imgs = imgs / PIXEL_LEVELS\n",
        "    return imgs, imgs_int\n",
        "\n",
        "\n",
        "input_data, output_data = preprocess(x_train)"
      ],
      "metadata": {
        "id": "Y5aSDj2wZ327"
      },
      "execution_count": null,
      "outputs": []
    },
    {
      "cell_type": "code",
      "source": [
        "# Show some items of clothing from the training set\n",
        "display(input_data)"
      ],
      "metadata": {
        "colab": {
          "base_uri": "https://localhost:8080/",
          "height": 130
        },
        "id": "0epMINbyZ8Fj",
        "outputId": "8f2a08e0-8598-4a3d-8b34-f27ec177ba92"
      },
      "execution_count": null,
      "outputs": [
        {
          "output_type": "display_data",
          "data": {
            "text/plain": [
              "<Figure size 2000x300 with 10 Axes>"
            ],
            "image/png": "[encoded data removed]"
          },
          "metadata": {}
        }
      ]
    },
    {
      "cell_type": "markdown",
      "source": [
        "The code in the following cell defines a custom layer called `MaskedConv2D` which extends the functionality of the standard 2D convolutional layer (`layers.Conv2D`) by including masking.\n",
        "\n",
        "\n",
        "\n",
        "1. The `MaskedConv2D` class is defined as a subclass of `layers.Layer`, indicating that it is a custom layer.\n",
        "\n",
        "2. The `__init__` method is the constructor of the class. It takes a `mask_type` parameter and any additional keyword arguments (`**kwargs`). It calls the constructor of the parent class (`super(MaskedConv2D, self).__init__()`) and initializes the `mask_type` attribute. It also creates an instance of `layers.Conv2D` with the provided `**kwargs` and assigns it to the `conv` attribute.\n",
        "\n",
        "3. The `build` method is called when the layer is being built. It first builds the `conv` layer to initialize its kernel variables. Then, it retrieves the shape of the kernel using `self.conv.kernel.get_shape()` and creates a mask tensor (`self.mask`) with the same shape, initialized with zeros.\n",
        "\n",
        "4. Depending on the `mask_type`, the mask is populated with ones in specific regions:\n",
        "   - For the upper half of the kernel (excluding the center row), the mask values are set to 1.0.\n",
        "   - For the left half of the center row (including the center pixel), the mask values are set to 1.0.\n",
        "   - If the `mask_type` is \"B\", the center pixel of the kernel is also set to 1.0.\n",
        "\n",
        "5. The `call` method is invoked when the layer is called with an input tensor. It multiplies the `conv` layer's kernel with the mask using element-wise multiplication (`self.conv.kernel * self.mask`). This effectively applies the mask to the kernel, zeroing out the desired regions. Then, it calls the `conv` layer with the masked kernel and returns the output.\n",
        "\n",
        "6. The `get_config` method is used to retrieve the configuration of the layer. In this case, it simply calls the `get_config` method of the parent class and returns the configuration.\n",
        "\n",
        "The purpose of this `MaskedConv2D` layer is to apply a mask to the convolutional kernel, allowing only certain regions of the kernel to be active during the convolution operation. This is particularly useful in architectures like PixelCNN, where the masking ensures that each pixel in the output depends only on the pixels above and to the left of it in the input, following a specific order."
      ],
      "metadata": {
        "id": "PCw1KKTFxazf"
      }
    },
    {
      "cell_type": "code",
      "source": [
        "# The first layer is the PixelCNN layer. This layer simply\n",
        "# builds on the 2D convolutional layer, but includes masking.\n",
        "class MaskedConv2D(layers.Layer):\n",
        "    def __init__(self, mask_type, **kwargs):\n",
        "        super(MaskedConv2D, self).__init__()\n",
        "        self.mask_type = mask_type\n",
        "        self.conv = layers.Conv2D(**kwargs)\n",
        "\n",
        "    def build(self, input_shape):\n",
        "        # Build the conv2d layer to initialize kernel variables\n",
        "        self.conv.build(input_shape)\n",
        "        # Use the initialized kernel to create the mask\n",
        "        kernel_shape = self.conv.kernel.get_shape()\n",
        "        self.mask = np.zeros(shape=kernel_shape)\n",
        "        self.mask[: kernel_shape[0] // 2, ...] = 1.0\n",
        "        self.mask[kernel_shape[0] // 2, : kernel_shape[1] // 2, ...] = 1.0\n",
        "        if self.mask_type == \"B\":\n",
        "            self.mask[kernel_shape[0] // 2, kernel_shape[1] // 2, ...] = 1.0\n",
        "\n",
        "    def call(self, inputs):\n",
        "        self.conv.kernel.assign(self.conv.kernel * self.mask)\n",
        "        return self.conv(inputs)\n",
        "\n",
        "    def get_config(self):\n",
        "        cfg = super().get_config()\n",
        "        return cfg"
      ],
      "metadata": {
        "id": "meQR1erEZ_j3"
      },
      "execution_count": null,
      "outputs": []
    },
    {
      "cell_type": "markdown",
      "source": [
        "The code in the following cell defines a custom layer called `ResidualBlock` which implements a residual block architecture commonly used in deep neural networks. Residual blocks allow the network to learn residual functions and facilitate the training of deep networks by alleviating the vanishing gradient problem.\n",
        "\n",
        "\n",
        "1. The `ResidualBlock` class is defined as a subclass of `layers.Layer`, indicating that it is a custom layer.\n",
        "\n",
        "2. The `__init__` method is the constructor of the class. It takes a `filters` parameter, which determines the number of filters in the convolutional layers, and any additional keyword arguments (`**kwargs`). It calls the constructor of the parent class (`super(ResidualBlock, self).__init__(**kwargs)`).\n",
        "\n",
        "3. Inside the constructor, three convolutional layers are defined:\n",
        "   - `self.conv1`: A standard 2D convolutional layer (`layers.Conv2D`) with `filters // 2` filters (half the input filters), kernel size of 1, and ReLU activation.\n",
        "   - `self.pixel_conv`: An instance of the `MaskedConv2D` layer (defined in the previous code snippet) with mask type \"B\", `filters // 2` filters (half the input filters), kernel size of 3, ReLU activation, and \"same\" padding.\n",
        "   - `self.conv2`: Another standard 2D convolutional layer with `filters` filters (same as the input filters), kernel size of 1, and ReLU activation.\n",
        "\n",
        "4. The `call` method is invoked when the layer is called with an input tensor. It defines the forward pass of the residual block:\n",
        "   - The input tensor is passed through `self.conv1`, followed by `self.pixel_conv`, and then `self.conv2`.\n",
        "   - The output of `self.conv2` is added element-wise to the original input tensor using `layers.add([inputs, x])`, creating the residual connection.\n",
        "   - The result of the element-wise addition is returned as the output of the residual block.\n",
        "\n",
        "5. The `get_config` method is used to retrieve the configuration of the layer. In this case, it simply calls the `get_config` method of the parent class and returns the configuration.\n",
        "\n",
        "The purpose of this `ResidualBlock` is to learn residual functions by allowing the network to pass information from the input directly to the output through the residual connection. The block consists of two branches:\n",
        "- The main branch applies a series of convolutional operations (conv1 → pixel_conv → conv2) to the input.\n",
        "- The residual branch simply passes the input directly to the output.\n",
        "\n",
        "The outputs of both branches are then added element-wise, enabling the network to learn the residual function. This residual connection helps in training deep networks by allowing the gradients to flow more easily through the network, mitigating the vanishing gradient problem.\n",
        "\n",
        "The `MaskedConv2D` layer used in the `pixel_conv` ensures that the convolution operation follows a specific masking pattern, which is useful in a PixelCNN."
      ],
      "metadata": {
        "id": "RIn7M8rWyCPG"
      }
    },
    {
      "cell_type": "code",
      "source": [
        "class ResidualBlock(layers.Layer):\n",
        "    def __init__(self, filters, **kwargs):\n",
        "        super(ResidualBlock, self).__init__(**kwargs)\n",
        "        self.conv1 = layers.Conv2D(\n",
        "            filters=filters // 2, kernel_size=1, activation=\"relu\"\n",
        "        )\n",
        "        self.pixel_conv = MaskedConv2D(\n",
        "            mask_type=\"B\",\n",
        "            filters=filters // 2,\n",
        "            kernel_size=3,\n",
        "            activation=\"relu\",\n",
        "            padding=\"same\",\n",
        "        )\n",
        "        self.conv2 = layers.Conv2D(\n",
        "            filters=filters, kernel_size=1, activation=\"relu\"\n",
        "        )\n",
        "\n",
        "    def call(self, inputs):\n",
        "        x = self.conv1(inputs)\n",
        "        x = self.pixel_conv(x)\n",
        "        x = self.conv2(x)\n",
        "        return layers.add([inputs, x])\n",
        "\n",
        "    def get_config(self):\n",
        "        cfg = super().get_config()\n",
        "        return cfg"
      ],
      "metadata": {
        "id": "K0wjJ_kJaDrq"
      },
      "execution_count": null,
      "outputs": []
    },
    {
      "cell_type": "markdown",
      "source": [
        "The code below defines the architecture of a PixelCNN model using the Keras functional API.\n",
        "\n",
        "1. `inputs = layers.Input(shape=(IMAGE_SIZE, IMAGE_SIZE, 1))`:\n",
        "   - This line defines the input layer of the model using `layers.Input`.\n",
        "   - The input shape is specified as `(IMAGE_SIZE, IMAGE_SIZE, 1)`, indicating that the input images have a height and width of `IMAGE_SIZE` and a single channel (grayscale).\n",
        "\n",
        "2. `x = MaskedConv2D(mask_type=\"A\", filters=N_FILTERS, kernel_size=7, activation=\"relu\", padding=\"same\")(inputs)`:\n",
        "   - The input tensor is passed through a `MaskedConv2D` layer with mask type \"A\", `N_FILTERS` filters, a kernel size of 7, ReLU activation, and \"same\" padding.\n",
        "   - This layer applies a masked convolution operation to the input, allowing the model to capture local dependencies.\n",
        "\n",
        "3. `for _ in range(RESIDUAL_BLOCKS): x = ResidualBlock(filters=N_FILTERS)(x)`:\n",
        "   - This loop creates a stack of `RESIDUAL_BLOCKS` residual blocks.\n",
        "   - Each residual block is created using the `ResidualBlock` layer defined in the previous code snippet, with `N_FILTERS` filters.\n",
        "   - The output of each residual block is assigned back to `x`, forming a deep residual network.\n",
        "\n",
        "4. `for _ in range(2): x = MaskedConv2D(mask_type=\"B\", filters=N_FILTERS, kernel_size=1, strides=1, activation=\"relu\", padding=\"valid\")(x)`:\n",
        "   - This loop applies two additional `MaskedConv2D` layers with mask type \"B\", `N_FILTERS` filters, a kernel size of 1, stride of 1, ReLU activation, and \"valid\" padding.\n",
        "   - These layers further process the output of the residual blocks.\n",
        "\n",
        "5. `out = layers.Conv2D(filters=PIXEL_LEVELS, kernel_size=1, strides=1, activation=\"softmax\", padding=\"valid\")(x)`:\n",
        "   - The final layer is a standard 2D convolutional layer (`layers.Conv2D`) with `PIXEL_LEVELS` filters, a kernel size of 1, stride of 1, softmax activation, and \"valid\" padding.\n",
        "   - This layer produces the output of the model, representing the probability distribution over the pixel values.\n",
        "\n",
        "6. `pixel_cnn = models.Model(inputs, out)`:\n",
        "   - The `pixel_cnn` model is created using `models.Model`, specifying the input tensor (`inputs`) and the output tensor (`out`).\n",
        "   - This defines the complete PixelCNN model architecture.\n",
        "\n",
        "7. `pixel_cnn.summary()`:\n",
        "   - This line prints a summary of the PixelCNN model architecture, displaying the layers, their output shapes, and the number of parameters in each layer.\n",
        "\n",
        "The resulting `pixel_cnn` model is a deep convolutional neural network that learns to generate images pixel by pixel. The architecture consists of a stack of masked convolutional layers and residual blocks, which capture the dependencies between pixels and allow the model to generate coherent and realistic images.\n",
        "\n",
        "The use of masked convolutions ensures that the model follows a specific order in generating pixels, where each pixel depends only on the pixels above and to the left of it in the image."
      ],
      "metadata": {
        "id": "f0KkgkO7ypJt"
      }
    },
    {
      "cell_type": "code",
      "source": [
        "inputs = layers.Input(shape=(IMAGE_SIZE, IMAGE_SIZE, 1))\n",
        "x = MaskedConv2D(\n",
        "    mask_type=\"A\",\n",
        "    filters=N_FILTERS,\n",
        "    kernel_size=7,\n",
        "    activation=\"relu\",\n",
        "    padding=\"same\",\n",
        ")(inputs)\n",
        "\n",
        "for _ in range(RESIDUAL_BLOCKS):\n",
        "    x = ResidualBlock(filters=N_FILTERS)(x)\n",
        "\n",
        "for _ in range(2):\n",
        "    x = MaskedConv2D(\n",
        "        mask_type=\"B\",\n",
        "        filters=N_FILTERS,\n",
        "        kernel_size=1,\n",
        "        strides=1,\n",
        "        activation=\"relu\",\n",
        "        padding=\"valid\",\n",
        "    )(x)\n",
        "\n",
        "out = layers.Conv2D(\n",
        "    filters=PIXEL_LEVELS,\n",
        "    kernel_size=1,\n",
        "    strides=1,\n",
        "    activation=\"softmax\",\n",
        "    padding=\"valid\",\n",
        ")(x)\n",
        "\n",
        "pixel_cnn = models.Model(inputs, out)\n",
        "pixel_cnn.summary()"
      ],
      "metadata": {
        "colab": {
          "base_uri": "https://localhost:8080/"
        },
        "id": "q9YeRsKiaLXS",
        "outputId": "b4abbd02-ead4-4191-ee98-23ded100ceff"
      },
      "execution_count": null,
      "outputs": [
        {
          "output_type": "stream",
          "name": "stdout",
          "text": [
            "Model: \"model\"\n",
            "_________________________________________________________________\n",
            " Layer (type)                Output Shape              Param #   \n",
            "=================================================================\n",
            " input_1 (InputLayer)        [(None, 16, 16, 1)]       0         \n",
            "                                                                 \n",
            " masked_conv2d (MaskedConv2  (None, 16, 16, 128)       6400      \n",
            " D)                                                              \n",
            "                                                                 \n",
            " residual_block (ResidualBl  (None, 16, 16, 128)       53504     \n",
            " ock)                                                            \n",
            "                                                                 \n",
            " residual_block_1 (Residual  (None, 16, 16, 128)       53504     \n",
            " Block)                                                          \n",
            "                                                                 \n",
            " residual_block_2 (Residual  (None, 16, 16, 128)       53504     \n",
            " Block)                                                          \n",
            "                                                                 \n",
            " residual_block_3 (Residual  (None, 16, 16, 128)       53504     \n",
            " Block)                                                          \n",
            "                                                                 \n",
            " residual_block_4 (Residual  (None, 16, 16, 128)       53504     \n",
            " Block)                                                          \n",
            "                                                                 \n",
            " masked_conv2d_6 (MaskedCon  (None, 16, 16, 128)       16512     \n",
            " v2D)                                                            \n",
            "                                                                 \n",
            " masked_conv2d_7 (MaskedCon  (None, 16, 16, 128)       16512     \n",
            " v2D)                                                            \n",
            "                                                                 \n",
            " conv2d_18 (Conv2D)          (None, 16, 16, 4)         516       \n",
            "                                                                 \n",
            "=================================================================\n",
            "Total params: 307460 (1.17 MB)\n",
            "Trainable params: 307460 (1.17 MB)\n",
            "Non-trainable params: 0 (0.00 Byte)\n",
            "_________________________________________________________________\n"
          ]
        }
      ]
    },
    {
      "cell_type": "code",
      "source": [
        "adam = optimizers.Adam(learning_rate=0.0005)\n",
        "pixel_cnn.compile(optimizer=adam, loss=\"sparse_categorical_crossentropy\")"
      ],
      "metadata": {
        "id": "F77zvyJUaQTU"
      },
      "execution_count": null,
      "outputs": []
    },
    {
      "cell_type": "code",
      "source": [
        "tensorboard_callback = callbacks.TensorBoard(log_dir=\"./logs\")\n",
        "\n",
        "\n",
        "class ImageGenerator(callbacks.Callback):\n",
        "    def __init__(self, num_img):\n",
        "        self.num_img = num_img\n",
        "\n",
        "    def sample_from(self, probs, temperature):  # <2>\n",
        "        probs = probs ** (1 / temperature)\n",
        "        probs = probs / np.sum(probs)\n",
        "        return np.random.choice(len(probs), p=probs)\n",
        "\n",
        "    def generate(self, temperature):\n",
        "        generated_images = np.zeros(\n",
        "            shape=(self.num_img,) + (pixel_cnn.input_shape)[1:]\n",
        "        )\n",
        "        batch, rows, cols, channels = generated_images.shape\n",
        "\n",
        "        for row in range(rows):\n",
        "            for col in range(cols):\n",
        "                for channel in range(channels):\n",
        "                    probs = self.model.predict(generated_images, verbose=0)[\n",
        "                        :, row, col, :\n",
        "                    ]\n",
        "                    generated_images[:, row, col, channel] = [\n",
        "                        self.sample_from(x, temperature) for x in probs\n",
        "                    ]\n",
        "                    generated_images[:, row, col, channel] /= PIXEL_LEVELS\n",
        "\n",
        "        return generated_images\n",
        "\n",
        "    def on_epoch_end(self, epoch, logs=None):\n",
        "        generated_images = self.generate(temperature=1.0)\n",
        "        display(\n",
        "            generated_images,\n",
        "            save_to=\"/content/images/generated_img_%03d.png\" % (epoch),\n",
        "        )\n",
        "\n",
        "\n",
        "img_generator_callback = ImageGenerator(num_img=10)"
      ],
      "metadata": {
        "id": "32v1RxVMaUbV"
      },
      "execution_count": null,
      "outputs": []
    },
    {
      "cell_type": "code",
      "source": [
        "!mkdir ./images"
      ],
      "metadata": {
        "colab": {
          "base_uri": "https://localhost:8080/"
        },
        "id": "HDV11NrPdJgm",
        "outputId": "ce340094-0eba-436c-e21d-cd248b115840"
      },
      "execution_count": null,
      "outputs": [
        {
          "output_type": "stream",
          "name": "stdout",
          "text": [
            "mkdir: cannot create directory ‘./images’: File exists\n"
          ]
        }
      ]
    },
    {
      "cell_type": "code",
      "source": [
        "pixel_cnn.fit(\n",
        "    input_data,\n",
        "    output_data,\n",
        "    batch_size=BATCH_SIZE,\n",
        "    epochs=EPOCHS,\n",
        "    callbacks=[tensorboard_callback, img_generator_callback],\n",
        ")"
      ],
      "metadata": {
        "colab": {
          "base_uri": "https://localhost:8080/",
          "height": 1000
        },
        "id": "XvaDxA75aWhX",
        "outputId": "015bab0e-2284-4c4f-e1d5-cf11cd448f4e"
      },
      "execution_count": null,
      "outputs": [
        {
          "metadata": {
            "tags": null
          },
          "name": "stdout",
          "output_type": "stream",
          "text": [
            "Epoch 1/150\n",
            "  6/469 [..............................] - ETA: 5s - loss: 0.3937 "
          ]
        },
        {
          "metadata": {
            "tags": null
          },
          "name": "stderr",
          "output_type": "stream",
          "text": [
            "WARNING:tensorflow:Callback method `on_train_batch_end` is slow compared to the batch time (batch time: 0.0099s vs `on_train_batch_end` time: 0.0165s). Check your callbacks.\n"
          ]
        },
        {
          "metadata": {
            "tags": null
          },
          "name": "stdout",
          "output_type": "stream",
          "text": [
            "465/469 [============================>.] - ETA: 0s - loss: 0.3890\n",
            "Saved to /content/images/generated_img_000.png\n"
          ]
        },
        {
          "data": {
            "image/png": "[encoded data removed]",
            "text/plain": [
              "<Figure size 2000x300 with 10 Axes>"
            ]
          },
          "metadata": {},
          "output_type": "display_data"
        },
        {
          "metadata": {
            "tags": null
          },
          "name": "stdout",
          "output_type": "stream",
          "text": [
            "469/469 [==============================] - 24s 50ms/step - loss: 0.3890\n",
            "Epoch 2/150\n",
            "469/469 [==============================] - ETA: 0s - loss: 0.3821\n",
            "Saved to /content/images/generated_img_001.png\n"
          ]
        },
        {
          "data": {
            "image/png": "[encoded data removed]",
            "text/plain": [
              "<Figure size 2000x300 with 10 Axes>"
            ]
          },
          "metadata": {},
          "output_type": "display_data"
        },
        {
          "metadata": {
            "tags": null
          },
          "name": "stdout",
          "output_type": "stream",
          "text": [
            "469/469 [==============================] - 23s 50ms/step - loss: 0.3821\n",
            "Epoch 3/150\n",
            "466/469 [============================>.] - ETA: 0s - loss: 0.3769\n",
            "Saved to /content/images/generated_img_002.png\n"
          ]
        },
        {
          "data": {
            "image/png": "[encoded data removed]",
            "text/plain": [
              "<Figure size 2000x300 with 10 Axes>"
            ]
          },
          "metadata": {},
          "output_type": "display_data"
        },
        {
          "metadata": {
            "tags": null
          },
          "name": "stdout",
          "output_type": "stream",
          "text": [
            "469/469 [==============================] - 20s 42ms/step - loss: 0.3769\n",
            "Epoch 4/150\n",
            "469/469 [==============================] - ETA: 0s - loss: 0.3736\n",
            "Saved to /content/images/generated_img_003.png\n"
          ]
        },
        {
          "data": {
            "image/png": "[encoded data removed]",
            "text/plain": [
              "<Figure size 2000x300 with 10 Axes>"
            ]
          },
          "metadata": {},
          "output_type": "display_data"
        },
        {
          "metadata": {
            "tags": null
          },
          "name": "stdout",
          "output_type": "stream",
          "text": [
            "469/469 [==============================] - 19s 41ms/step - loss: 0.3736\n",
            "Epoch 5/150\n",
            "466/469 [============================>.] - ETA: 0s - loss: 0.3703\n",
            "Saved to /content/images/generated_img_004.png\n"
          ]
        },
        {
          "data": {
            "image/png": "[encoded data removed]",
            "text/plain": [
              "<Figure size 2000x300 with 10 Axes>"
            ]
          },
          "metadata": {},
          "output_type": "display_data"
        },
        {
          "metadata": {
            "tags": null
          },
          "name": "stdout",
          "output_type": "stream",
          "text": [
            "469/469 [==============================] - 19s 41ms/step - loss: 0.3702\n",
            "Epoch 6/150\n",
            "468/469 [============================>.] - ETA: 0s - loss: 0.3674\n",
            "Saved to /content/images/generated_img_005.png\n"
          ]
        },
        {
          "data": {
            "image/png": "[encoded data removed]",
            "text/plain": [
              "<Figure size 2000x300 with 10 Axes>"
            ]
          },
          "metadata": {},
          "output_type": "display_data"
        },
        {
          "metadata": {
            "tags": null
          },
          "name": "stdout",
          "output_type": "stream",
          "text": [
            "469/469 [==============================] - 20s 42ms/step - loss: 0.3674\n",
            "Epoch 7/150\n",
            "469/469 [==============================] - ETA: 0s - loss: 0.3645\n",
            "Saved to /content/images/generated_img_006.png\n"
          ]
        },
        {
          "data": {
            "image/png": "[encoded data removed]",
            "text/plain": [
              "<Figure size 2000x300 with 10 Axes>"
            ]
          },
          "metadata": {},
          "output_type": "display_data"
        },
        {
          "metadata": {
            "tags": null
          },
          "name": "stdout",
          "output_type": "stream",
          "text": [
            "469/469 [==============================] - 19s 41ms/step - loss: 0.3645\n",
            "Epoch 8/150\n",
            "468/469 [============================>.] - ETA: 0s - loss: 0.3623\n",
            "Saved to /content/images/generated_img_007.png\n"
          ]
        },
        {
          "data": {
            "image/png": "[encoded data removed]",
            "text/plain": [
              "<Figure size 2000x300 with 10 Axes>"
            ]
          },
          "metadata": {},
          "output_type": "display_data"
        },
        {
          "metadata": {
            "tags": null
          },
          "name": "stdout",
          "output_type": "stream",
          "text": [
            "469/469 [==============================] - 20s 42ms/step - loss: 0.3622\n",
            "Epoch 9/150\n",
            "466/469 [============================>.] - ETA: 0s - loss: 0.3603\n",
            "Saved to /content/images/generated_img_008.png\n"
          ]
        },
        {
          "data": {
            "image/png": "[encoded data removed]",
            "text/plain": [
              "<Figure size 2000x300 with 10 Axes>"
            ]
          },
          "metadata": {},
          "output_type": "display_data"
        },
        {
          "metadata": {
            "tags": null
          },
          "name": "stdout",
          "output_type": "stream",
          "text": [
            "469/469 [==============================] - 20s 42ms/step - loss: 0.3603\n",
            "Epoch 10/150\n",
            "467/469 [============================>.] - ETA: 0s - loss: 0.3583\n",
            "Saved to /content/images/generated_img_009.png\n"
          ]
        },
        {
          "data": {
            "image/png": "[encoded data removed]",
            "text/plain": [
              "<Figure size 2000x300 with 10 Axes>"
            ]
          },
          "metadata": {},
          "output_type": "display_data"
        },
        {
          "metadata": {
            "tags": null
          },
          "name": "stdout",
          "output_type": "stream",
          "text": [
            "469/469 [==============================] - 19s 41ms/step - loss: 0.3583\n",
            "Epoch 11/150\n",
            "465/469 [============================>.] - ETA: 0s - loss: 0.3571\n",
            "Saved to /content/images/generated_img_010.png\n"
          ]
        },
        {
          "data": {
            "image/png": "[encoded data removed]",
            "text/plain": [
              "<Figure size 2000x300 with 10 Axes>"
            ]
          },
          "metadata": {},
          "output_type": "display_data"
        },
        {
          "metadata": {
            "tags": null
          },
          "name": "stdout",
          "output_type": "stream",
          "text": [
            "469/469 [==============================] - 20s 42ms/step - loss: 0.3571\n",
            "Epoch 12/150\n",
            "468/469 [============================>.] - ETA: 0s - loss: 0.3557\n",
            "Saved to /content/images/generated_img_011.png\n"
          ]
        },
        {
          "data": {
            "image/png": "[encoded data removed]",
            "text/plain": [
              "<Figure size 2000x300 with 10 Axes>"
            ]
          },
          "metadata": {},
          "output_type": "display_data"
        },
        {
          "metadata": {
            "tags": null
          },
          "name": "stdout",
          "output_type": "stream",
          "text": [
            "469/469 [==============================] - 20s 42ms/step - loss: 0.3557\n",
            "Epoch 13/150\n",
            "469/469 [==============================] - ETA: 0s - loss: 0.3541\n",
            "Saved to /content/images/generated_img_012.png\n"
          ]
        },
        {
          "data": {
            "image/png": "[encoded data removed]",
            "text/plain": [
              "<Figure size 2000x300 with 10 Axes>"
            ]
          },
          "metadata": {},
          "output_type": "display_data"
        },
        {
          "metadata": {
            "tags": null
          },
          "name": "stdout",
          "output_type": "stream",
          "text": [
            "469/469 [==============================] - 19s 41ms/step - loss: 0.3541\n",
            "Epoch 14/150\n",
            "466/469 [============================>.] - ETA: 0s - loss: 0.3525\n",
            "Saved to /content/images/generated_img_013.png\n"
          ]
        },
        {
          "data": {
            "image/png": "[encoded data removed]",
            "text/plain": [
              "<Figure size 2000x300 with 10 Axes>"
            ]
          },
          "metadata": {},
          "output_type": "display_data"
        },
        {
          "metadata": {
            "tags": null
          },
          "name": "stdout",
          "output_type": "stream",
          "text": [
            "469/469 [==============================] - 20s 43ms/step - loss: 0.3525\n",
            "Epoch 15/150\n",
            "468/469 [============================>.] - ETA: 0s - loss: 0.3518\n",
            "Saved to /content/images/generated_img_014.png\n"
          ]
        },
        {
          "data": {
            "image/png": "[encoded data removed]",
            "text/plain": [
              "<Figure size 2000x300 with 10 Axes>"
            ]
          },
          "metadata": {},
          "output_type": "display_data"
        },
        {
          "metadata": {
            "tags": null
          },
          "name": "stdout",
          "output_type": "stream",
          "text": [
            "469/469 [==============================] - 19s 42ms/step - loss: 0.3518\n",
            "Epoch 16/150\n",
            "468/469 [============================>.] - ETA: 0s - loss: 0.3506\n",
            "Saved to /content/images/generated_img_015.png\n"
          ]
        },
        {
          "data": {
            "image/png": "[encoded data removed]",
            "text/plain": [
              "<Figure size 2000x300 with 10 Axes>"
            ]
          },
          "metadata": {},
          "output_type": "display_data"
        },
        {
          "metadata": {
            "tags": null
          },
          "name": "stdout",
          "output_type": "stream",
          "text": [
            "469/469 [==============================] - 20s 42ms/step - loss: 0.3506\n",
            "Epoch 17/150\n",
            "466/469 [============================>.] - ETA: 0s - loss: 0.3495\n",
            "Saved to /content/images/generated_img_016.png\n"
          ]
        },
        {
          "data": {
            "image/png": "[encoded data removed]",
            "text/plain": [
              "<Figure size 2000x300 with 10 Axes>"
            ]
          },
          "metadata": {},
          "output_type": "display_data"
        },
        {
          "metadata": {
            "tags": null
          },
          "name": "stdout",
          "output_type": "stream",
          "text": [
            "469/469 [==============================] - 20s 42ms/step - loss: 0.3496\n",
            "Epoch 18/150\n",
            "467/469 [============================>.] - ETA: 0s - loss: 0.3489\n",
            "Saved to /content/images/generated_img_017.png\n"
          ]
        },
        {
          "data": {
            "image/png": "[encoded data removed]",
            "text/plain": [
              "<Figure size 2000x300 with 10 Axes>"
            ]
          },
          "metadata": {},
          "output_type": "display_data"
        },
        {
          "metadata": {
            "tags": null
          },
          "name": "stdout",
          "output_type": "stream",
          "text": [
            "469/469 [==============================] - 19s 42ms/step - loss: 0.3488\n",
            "Epoch 19/150\n",
            "467/469 [============================>.] - ETA: 0s - loss: 0.3478\n",
            "Saved to /content/images/generated_img_018.png\n"
          ]
        },
        {
          "data": {
            "image/png": "[encoded data removed]",
            "text/plain": [
              "<Figure size 2000x300 with 10 Axes>"
            ]
          },
          "metadata": {},
          "output_type": "display_data"
        },
        {
          "metadata": {
            "tags": null
          },
          "name": "stdout",
          "output_type": "stream",
          "text": [
            "469/469 [==============================] - 20s 43ms/step - loss: 0.3479\n",
            "Epoch 20/150\n",
            "466/469 [============================>.] - ETA: 0s - loss: 0.3469\n",
            "Saved to /content/images/generated_img_019.png\n"
          ]
        },
        {
          "data": {
            "image/png": "[encoded data removed]",
            "text/plain": [
              "<Figure size 2000x300 with 10 Axes>"
            ]
          },
          "metadata": {},
          "output_type": "display_data"
        },
        {
          "metadata": {
            "tags": null
          },
          "name": "stdout",
          "output_type": "stream",
          "text": [
            "469/469 [==============================] - 19s 41ms/step - loss: 0.3468\n",
            "Epoch 21/150\n",
            "468/469 [============================>.] - ETA: 0s - loss: 0.3464\n",
            "Saved to /content/images/generated_img_020.png\n"
          ]
        },
        {
          "data": {
            "image/png": "[encoded data removed]",
            "text/plain": [
              "<Figure size 2000x300 with 10 Axes>"
            ]
          },
          "metadata": {},
          "output_type": "display_data"
        },
        {
          "metadata": {
            "tags": null
          },
          "name": "stdout",
          "output_type": "stream",
          "text": [
            "469/469 [==============================] - 20s 42ms/step - loss: 0.3464\n",
            "Epoch 22/150\n",
            "468/469 [============================>.] - ETA: 0s - loss: 0.3454\n",
            "Saved to /content/images/generated_img_021.png\n"
          ]
        },
        {
          "data": {
            "image/png": "[encoded data removed]",
            "text/plain": [
              "<Figure size 2000x300 with 10 Axes>"
            ]
          },
          "metadata": {},
          "output_type": "display_data"
        },
        {
          "metadata": {
            "tags": null
          },
          "name": "stdout",
          "output_type": "stream",
          "text": [
            "469/469 [==============================] - 20s 42ms/step - loss: 0.3454\n",
            "Epoch 23/150\n",
            "468/469 [============================>.] - ETA: 0s - loss: 0.3449\n",
            "Saved to /content/images/generated_img_022.png\n"
          ]
        },
        {
          "data": {
            "image/png": "[encoded data removed]",
            "text/plain": [
              "<Figure size 2000x300 with 10 Axes>"
            ]
          },
          "metadata": {},
          "output_type": "display_data"
        },
        {
          "metadata": {
            "tags": null
          },
          "name": "stdout",
          "output_type": "stream",
          "text": [
            "469/469 [==============================] - 19s 41ms/step - loss: 0.3449\n",
            "Epoch 24/150\n",
            "465/469 [============================>.] - ETA: 0s - loss: 0.3443\n",
            "Saved to /content/images/generated_img_023.png\n"
          ]
        },
        {
          "data": {
            "image/png": "[encoded data removed]",
            "text/plain": [
              "<Figure size 2000x300 with 10 Axes>"
            ]
          },
          "metadata": {},
          "output_type": "display_data"
        },
        {
          "metadata": {
            "tags": null
          },
          "name": "stdout",
          "output_type": "stream",
          "text": [
            "469/469 [==============================] - 21s 44ms/step - loss: 0.3443\n",
            "Epoch 25/150\n",
            "468/469 [============================>.] - ETA: 0s - loss: 0.3435\n",
            "Saved to /content/images/generated_img_024.png\n"
          ]
        },
        {
          "data": {
            "image/png": "[encoded data removed]",
            "text/plain": [
              "<Figure size 2000x300 with 10 Axes>"
            ]
          },
          "metadata": {},
          "output_type": "display_data"
        },
        {
          "metadata": {
            "tags": null
          },
          "name": "stdout",
          "output_type": "stream",
          "text": [
            "469/469 [==============================] - 20s 42ms/step - loss: 0.3434\n",
            "Epoch 26/150\n",
            "468/469 [============================>.] - ETA: 0s - loss: 0.3430\n",
            "Saved to /content/images/generated_img_025.png\n"
          ]
        },
        {
          "data": {
            "image/png": "[encoded data removed]",
            "text/plain": [
              "<Figure size 2000x300 with 10 Axes>"
            ]
          },
          "metadata": {},
          "output_type": "display_data"
        },
        {
          "metadata": {
            "tags": null
          },
          "name": "stdout",
          "output_type": "stream",
          "text": [
            "469/469 [==============================] - 20s 42ms/step - loss: 0.3429\n",
            "Epoch 27/150\n",
            "469/469 [==============================] - ETA: 0s - loss: 0.3425\n",
            "Saved to /content/images/generated_img_026.png\n"
          ]
        },
        {
          "data": {
            "image/png": "[encoded data removed]",
            "text/plain": [
              "<Figure size 2000x300 with 10 Axes>"
            ]
          },
          "metadata": {},
          "output_type": "display_data"
        },
        {
          "metadata": {
            "tags": null
          },
          "name": "stdout",
          "output_type": "stream",
          "text": [
            "469/469 [==============================] - 21s 45ms/step - loss: 0.3425\n",
            "Epoch 28/150\n",
            "469/469 [==============================] - ETA: 0s - loss: 0.3420\n",
            "Saved to /content/images/generated_img_027.png\n"
          ]
        },
        {
          "data": {
            "image/png": "[encoded data removed]",
            "text/plain": [
              "<Figure size 2000x300 with 10 Axes>"
            ]
          },
          "metadata": {},
          "output_type": "display_data"
        },
        {
          "metadata": {
            "tags": null
          },
          "name": "stdout",
          "output_type": "stream",
          "text": [
            "469/469 [==============================] - 20s 42ms/step - loss: 0.3420\n",
            "Epoch 29/150\n",
            "466/469 [============================>.] - ETA: 0s - loss: 0.3415\n",
            "Saved to /content/images/generated_img_028.png\n"
          ]
        },
        {
          "data": {
            "image/png": "[encoded data removed]",
            "text/plain": [
              "<Figure size 2000x300 with 10 Axes>"
            ]
          },
          "metadata": {},
          "output_type": "display_data"
        },
        {
          "metadata": {
            "tags": null
          },
          "name": "stdout",
          "output_type": "stream",
          "text": [
            "469/469 [==============================] - 21s 44ms/step - loss: 0.3416\n",
            "Epoch 30/150\n",
            "466/469 [============================>.] - ETA: 0s - loss: 0.3410\n",
            "Saved to /content/images/generated_img_029.png\n"
          ]
        },
        {
          "data": {
            "image/png": "[encoded data removed]",
            "text/plain": [
              "<Figure size 2000x300 with 10 Axes>"
            ]
          },
          "metadata": {},
          "output_type": "display_data"
        },
        {
          "metadata": {
            "tags": null
          },
          "name": "stdout",
          "output_type": "stream",
          "text": [
            "469/469 [==============================] - 20s 42ms/step - loss: 0.3410\n",
            "Epoch 31/150\n",
            "468/469 [============================>.] - ETA: 0s - loss: 0.3407\n",
            "Saved to /content/images/generated_img_030.png\n"
          ]
        },
        {
          "data": {
            "image/png": "[encoded data removed]",
            "text/plain": [
              "<Figure size 2000x300 with 10 Axes>"
            ]
          },
          "metadata": {},
          "output_type": "display_data"
        },
        {
          "metadata": {
            "tags": null
          },
          "name": "stdout",
          "output_type": "stream",
          "text": [
            "469/469 [==============================] - 20s 42ms/step - loss: 0.3407\n",
            "Epoch 32/150\n",
            "467/469 [============================>.] - ETA: 0s - loss: 0.3404\n",
            "Saved to /content/images/generated_img_031.png\n"
          ]
        },
        {
          "data": {
            "image/png": "[encoded data removed]",
            "text/plain": [
              "<Figure size 2000x300 with 10 Axes>"
            ]
          },
          "metadata": {},
          "output_type": "display_data"
        },
        {
          "metadata": {
            "tags": null
          },
          "name": "stdout",
          "output_type": "stream",
          "text": [
            "469/469 [==============================] - 20s 43ms/step - loss: 0.3403\n",
            "Epoch 33/150\n",
            "466/469 [============================>.] - ETA: 0s - loss: 0.3396\n",
            "Saved to /content/images/generated_img_032.png\n"
          ]
        },
        {
          "data": {
            "image/png": "[encoded data removed]",
            "text/plain": [
              "<Figure size 2000x300 with 10 Axes>"
            ]
          },
          "metadata": {},
          "output_type": "display_data"
        },
        {
          "metadata": {
            "tags": null
          },
          "name": "stdout",
          "output_type": "stream",
          "text": [
            "469/469 [==============================] - 20s 42ms/step - loss: 0.3397\n",
            "Epoch 34/150\n",
            "466/469 [============================>.] - ETA: 0s - loss: 0.3394\n",
            "Saved to /content/images/generated_img_033.png\n"
          ]
        },
        {
          "data": {
            "image/png": "[encoded data removed]",
            "text/plain": [
              "<Figure size 2000x300 with 10 Axes>"
            ]
          },
          "metadata": {},
          "output_type": "display_data"
        },
        {
          "metadata": {
            "tags": null
          },
          "name": "stdout",
          "output_type": "stream",
          "text": [
            "469/469 [==============================] - 20s 43ms/step - loss: 0.3394\n",
            "Epoch 35/150\n",
            "465/469 [============================>.] - ETA: 0s - loss: 0.3389\n",
            "Saved to /content/images/generated_img_034.png\n"
          ]
        },
        {
          "data": {
            "image/png": "[encoded data removed]",
            "text/plain": [
              "<Figure size 2000x300 with 10 Axes>"
            ]
          },
          "metadata": {},
          "output_type": "display_data"
        },
        {
          "metadata": {
            "tags": null
          },
          "name": "stdout",
          "output_type": "stream",
          "text": [
            "469/469 [==============================] - 20s 42ms/step - loss: 0.3390\n",
            "Epoch 36/150\n",
            "464/469 [============================>.] - ETA: 0s - loss: 0.3385\n",
            "Saved to /content/images/generated_img_035.png\n"
          ]
        },
        {
          "data": {
            "image/png": "[encoded data removed]",
            "text/plain": [
              "<Figure size 2000x300 with 10 Axes>"
            ]
          },
          "metadata": {},
          "output_type": "display_data"
        },
        {
          "metadata": {
            "tags": null
          },
          "name": "stdout",
          "output_type": "stream",
          "text": [
            "469/469 [==============================] - 20s 42ms/step - loss: 0.3385\n",
            "Epoch 37/150\n",
            "467/469 [============================>.] - ETA: 0s - loss: 0.3380\n",
            "Saved to /content/images/generated_img_036.png\n"
          ]
        },
        {
          "data": {
            "image/png": "[encoded data removed]",
            "text/plain": [
              "<Figure size 2000x300 with 10 Axes>"
            ]
          },
          "metadata": {},
          "output_type": "display_data"
        },
        {
          "metadata": {
            "tags": null
          },
          "name": "stdout",
          "output_type": "stream",
          "text": [
            "469/469 [==============================] - 20s 43ms/step - loss: 0.3380\n",
            "Epoch 38/150\n",
            "467/469 [============================>.] - ETA: 0s - loss: 0.3379\n",
            "Saved to /content/images/generated_img_037.png\n"
          ]
        },
        {
          "data": {
            "image/png": "[encoded data removed]",
            "text/plain": [
              "<Figure size 2000x300 with 10 Axes>"
            ]
          },
          "metadata": {},
          "output_type": "display_data"
        },
        {
          "metadata": {
            "tags": null
          },
          "name": "stdout",
          "output_type": "stream",
          "text": [
            "469/469 [==============================] - 19s 42ms/step - loss: 0.3380\n",
            "Epoch 39/150\n",
            "464/469 [============================>.] - ETA: 0s - loss: 0.3375\n",
            "Saved to /content/images/generated_img_038.png\n"
          ]
        },
        {
          "data": {
            "image/png": "[encoded data removed]",
            "text/plain": [
              "<Figure size 2000x300 with 10 Axes>"
            ]
          },
          "metadata": {},
          "output_type": "display_data"
        },
        {
          "metadata": {
            "tags": null
          },
          "name": "stdout",
          "output_type": "stream",
          "text": [
            "469/469 [==============================] - 21s 45ms/step - loss: 0.3375\n",
            "Epoch 40/150\n",
            "468/469 [============================>.] - ETA: 0s - loss: 0.3369\n",
            "Saved to /content/images/generated_img_039.png\n"
          ]
        },
        {
          "data": {
            "image/png": "[encoded data removed]",
            "text/plain": [
              "<Figure size 2000x300 with 10 Axes>"
            ]
          },
          "metadata": {},
          "output_type": "display_data"
        },
        {
          "metadata": {
            "tags": null
          },
          "name": "stdout",
          "output_type": "stream",
          "text": [
            "469/469 [==============================] - 20s 42ms/step - loss: 0.3370\n",
            "Epoch 41/150\n",
            "468/469 [============================>.] - ETA: 0s - loss: 0.3370\n",
            "Saved to /content/images/generated_img_040.png\n"
          ]
        },
        {
          "data": {
            "image/png": "[encoded data removed]",
            "text/plain": [
              "<Figure size 2000x300 with 10 Axes>"
            ]
          },
          "metadata": {},
          "output_type": "display_data"
        },
        {
          "metadata": {
            "tags": null
          },
          "name": "stdout",
          "output_type": "stream",
          "text": [
            "469/469 [==============================] - 20s 42ms/step - loss: 0.3370\n",
            "Epoch 42/150\n",
            "467/469 [============================>.] - ETA: 0s - loss: 0.3365\n",
            "Saved to /content/images/generated_img_041.png\n"
          ]
        },
        {
          "data": {
            "image/png": "[encoded data removed]",
            "text/plain": [
              "<Figure size 2000x300 with 10 Axes>"
            ]
          },
          "metadata": {},
          "output_type": "display_data"
        },
        {
          "metadata": {
            "tags": null
          },
          "name": "stdout",
          "output_type": "stream",
          "text": [
            "469/469 [==============================] - 20s 44ms/step - loss: 0.3365\n",
            "Epoch 43/150\n",
            "469/469 [==============================] - ETA: 0s - loss: 0.3363\n",
            "Saved to /content/images/generated_img_042.png\n"
          ]
        },
        {
          "data": {
            "image/png": "[encoded data removed]",
            "text/plain": [
              "<Figure size 2000x300 with 10 Axes>"
            ]
          },
          "metadata": {},
          "output_type": "display_data"
        },
        {
          "metadata": {
            "tags": null
          },
          "name": "stdout",
          "output_type": "stream",
          "text": [
            "469/469 [==============================] - 20s 42ms/step - loss: 0.3363\n",
            "Epoch 44/150\n",
            "467/469 [============================>.] - ETA: 0s - loss: 0.3360\n",
            "Saved to /content/images/generated_img_043.png\n"
          ]
        },
        {
          "data": {
            "image/png": "[encoded data removed]",
            "text/plain": [
              "<Figure size 2000x300 with 10 Axes>"
            ]
          },
          "metadata": {},
          "output_type": "display_data"
        },
        {
          "metadata": {
            "tags": null
          },
          "name": "stdout",
          "output_type": "stream",
          "text": [
            "469/469 [==============================] - 21s 44ms/step - loss: 0.3360\n",
            "Epoch 45/150\n",
            "468/469 [============================>.] - ETA: 0s - loss: 0.3358\n",
            "Saved to /content/images/generated_img_044.png\n"
          ]
        },
        {
          "data": {
            "image/png": "[encoded data removed]",
            "text/plain": [
              "<Figure size 2000x300 with 10 Axes>"
            ]
          },
          "metadata": {},
          "output_type": "display_data"
        },
        {
          "metadata": {
            "tags": null
          },
          "name": "stdout",
          "output_type": "stream",
          "text": [
            "469/469 [==============================] - 19s 42ms/step - loss: 0.3357\n",
            "Epoch 46/150\n",
            "468/469 [============================>.] - ETA: 0s - loss: 0.3355\n",
            "Saved to /content/images/generated_img_045.png\n"
          ]
        },
        {
          "data": {
            "image/png": "[encoded data removed]",
            "text/plain": [
              "<Figure size 2000x300 with 10 Axes>"
            ]
          },
          "metadata": {},
          "output_type": "display_data"
        },
        {
          "metadata": {
            "tags": null
          },
          "name": "stdout",
          "output_type": "stream",
          "text": [
            "469/469 [==============================] - 20s 42ms/step - loss: 0.3355\n",
            "Epoch 47/150\n",
            "469/469 [==============================] - ETA: 0s - loss: 0.3350\n",
            "Saved to /content/images/generated_img_046.png\n"
          ]
        },
        {
          "data": {
            "image/png": "[encoded data removed]",
            "text/plain": [
              "<Figure size 2000x300 with 10 Axes>"
            ]
          },
          "metadata": {},
          "output_type": "display_data"
        },
        {
          "metadata": {
            "tags": null
          },
          "name": "stdout",
          "output_type": "stream",
          "text": [
            "469/469 [==============================] - 20s 44ms/step - loss: 0.3350\n",
            "Epoch 48/150\n",
            "465/469 [============================>.] - ETA: 0s - loss: 0.3348\n",
            "Saved to /content/images/generated_img_047.png\n"
          ]
        },
        {
          "data": {
            "image/png": "[encoded data removed]",
            "text/plain": [
              "<Figure size 2000x300 with 10 Axes>"
            ]
          },
          "metadata": {},
          "output_type": "display_data"
        },
        {
          "metadata": {
            "tags": null
          },
          "name": "stdout",
          "output_type": "stream",
          "text": [
            "469/469 [==============================] - 19s 42ms/step - loss: 0.3347\n",
            "Epoch 49/150\n",
            "467/469 [============================>.] - ETA: 0s - loss: 0.3348\n",
            "Saved to /content/images/generated_img_048.png\n"
          ]
        },
        {
          "data": {
            "image/png": "[encoded data removed]",
            "text/plain": [
              "<Figure size 2000x300 with 10 Axes>"
            ]
          },
          "metadata": {},
          "output_type": "display_data"
        },
        {
          "metadata": {
            "tags": null
          },
          "name": "stdout",
          "output_type": "stream",
          "text": [
            "469/469 [==============================] - 21s 44ms/step - loss: 0.3348\n",
            "Epoch 50/150\n",
            "466/469 [============================>.] - ETA: 0s - loss: 0.3344\n",
            "Saved to /content/images/generated_img_049.png\n"
          ]
        },
        {
          "data": {
            "image/png": "[encoded data removed]",
            "text/plain": [
              "<Figure size 2000x300 with 10 Axes>"
            ]
          },
          "metadata": {},
          "output_type": "display_data"
        },
        {
          "metadata": {
            "tags": null
          },
          "name": "stdout",
          "output_type": "stream",
          "text": [
            "469/469 [==============================] - 20s 42ms/step - loss: 0.3344\n",
            "Epoch 51/150\n",
            "466/469 [============================>.] - ETA: 0s - loss: 0.3341\n",
            "Saved to /content/images/generated_img_050.png\n"
          ]
        },
        {
          "data": {
            "image/png": "[encoded data removed]",
            "text/plain": [
              "<Figure size 2000x300 with 10 Axes>"
            ]
          },
          "metadata": {},
          "output_type": "display_data"
        },
        {
          "metadata": {
            "tags": null
          },
          "name": "stdout",
          "output_type": "stream",
          "text": [
            "469/469 [==============================] - 20s 42ms/step - loss: 0.3341\n",
            "Epoch 52/150\n",
            "467/469 [============================>.] - ETA: 0s - loss: 0.3337\n",
            "Saved to /content/images/generated_img_051.png\n"
          ]
        },
        {
          "data": {
            "image/png": "[encoded data removed]",
            "text/plain": [
              "<Figure size 2000x300 with 10 Axes>"
            ]
          },
          "metadata": {},
          "output_type": "display_data"
        },
        {
          "metadata": {
            "tags": null
          },
          "name": "stdout",
          "output_type": "stream",
          "text": [
            "469/469 [==============================] - 20s 44ms/step - loss: 0.3338\n",
            "Epoch 53/150\n",
            "467/469 [============================>.] - ETA: 0s - loss: 0.3338\n",
            "Saved to /content/images/generated_img_052.png\n"
          ]
        },
        {
          "data": {
            "image/png": "[encoded data removed]",
            "text/plain": [
              "<Figure size 2000x300 with 10 Axes>"
            ]
          },
          "metadata": {},
          "output_type": "display_data"
        },
        {
          "metadata": {
            "tags": null
          },
          "name": "stdout",
          "output_type": "stream",
          "text": [
            "469/469 [==============================] - 19s 41ms/step - loss: 0.3338\n",
            "Epoch 54/150\n",
            "464/469 [============================>.] - ETA: 0s - loss: 0.3334\n",
            "Saved to /content/images/generated_img_053.png\n"
          ]
        },
        {
          "data": {
            "image/png": "[encoded data removed]",
            "text/plain": [
              "<Figure size 2000x300 with 10 Axes>"
            ]
          },
          "metadata": {},
          "output_type": "display_data"
        },
        {
          "metadata": {
            "tags": null
          },
          "name": "stdout",
          "output_type": "stream",
          "text": [
            "469/469 [==============================] - 21s 44ms/step - loss: 0.3334\n",
            "Epoch 55/150\n",
            "467/469 [============================>.] - ETA: 0s - loss: 0.3332\n",
            "Saved to /content/images/generated_img_054.png\n"
          ]
        },
        {
          "data": {
            "image/png": "[encoded data removed]",
            "text/plain": [
              "<Figure size 2000x300 with 10 Axes>"
            ]
          },
          "metadata": {},
          "output_type": "display_data"
        },
        {
          "metadata": {
            "tags": null
          },
          "name": "stdout",
          "output_type": "stream",
          "text": [
            "469/469 [==============================] - 20s 43ms/step - loss: 0.3332\n",
            "Epoch 56/150\n",
            "465/469 [============================>.] - ETA: 0s - loss: 0.3329\n",
            "Saved to /content/images/generated_img_055.png\n"
          ]
        },
        {
          "data": {
            "image/png": "[encoded data removed]",
            "text/plain": [
              "<Figure size 2000x300 with 10 Axes>"
            ]
          },
          "metadata": {},
          "output_type": "display_data"
        },
        {
          "metadata": {
            "tags": null
          },
          "name": "stdout",
          "output_type": "stream",
          "text": [
            "469/469 [==============================] - 20s 43ms/step - loss: 0.3330\n",
            "Epoch 57/150\n",
            "466/469 [============================>.] - ETA: 0s - loss: 0.3327\n",
            "Saved to /content/images/generated_img_056.png\n"
          ]
        },
        {
          "data": {
            "image/png": "[encoded data removed]",
            "text/plain": [
              "<Figure size 2000x300 with 10 Axes>"
            ]
          },
          "metadata": {},
          "output_type": "display_data"
        },
        {
          "metadata": {
            "tags": null
          },
          "name": "stdout",
          "output_type": "stream",
          "text": [
            "469/469 [==============================] - 21s 45ms/step - loss: 0.3327\n",
            "Epoch 58/150\n",
            "464/469 [============================>.] - ETA: 0s - loss: 0.3325\n",
            "Saved to /content/images/generated_img_057.png\n"
          ]
        },
        {
          "data": {
            "image/png": "[encoded data removed]",
            "text/plain": [
              "<Figure size 2000x300 with 10 Axes>"
            ]
          },
          "metadata": {},
          "output_type": "display_data"
        },
        {
          "metadata": {
            "tags": null
          },
          "name": "stdout",
          "output_type": "stream",
          "text": [
            "469/469 [==============================] - 20s 42ms/step - loss: 0.3325\n",
            "Epoch 59/150\n",
            "466/469 [============================>.] - ETA: 0s - loss: 0.3324\n",
            "Saved to /content/images/generated_img_058.png\n"
          ]
        },
        {
          "data": {
            "image/png": "[encoded data removed]",
            "text/plain": [
              "<Figure size 2000x300 with 10 Axes>"
            ]
          },
          "metadata": {},
          "output_type": "display_data"
        },
        {
          "metadata": {
            "tags": null
          },
          "name": "stdout",
          "output_type": "stream",
          "text": [
            "469/469 [==============================] - 21s 44ms/step - loss: 0.3324\n",
            "Epoch 60/150\n",
            "469/469 [==============================] - ETA: 0s - loss: 0.3322\n",
            "Saved to /content/images/generated_img_059.png\n"
          ]
        },
        {
          "data": {
            "image/png": "[encoded data removed]",
            "text/plain": [
              "<Figure size 2000x300 with 10 Axes>"
            ]
          },
          "metadata": {},
          "output_type": "display_data"
        },
        {
          "metadata": {
            "tags": null
          },
          "name": "stdout",
          "output_type": "stream",
          "text": [
            "469/469 [==============================] - 20s 42ms/step - loss: 0.3322\n",
            "Epoch 61/150\n",
            "467/469 [============================>.] - ETA: 0s - loss: 0.3319\n",
            "Saved to /content/images/generated_img_060.png\n"
          ]
        },
        {
          "data": {
            "image/png": "[encoded data removed]",
            "text/plain": [
              "<Figure size 2000x300 with 10 Axes>"
            ]
          },
          "metadata": {},
          "output_type": "display_data"
        },
        {
          "metadata": {
            "tags": null
          },
          "name": "stdout",
          "output_type": "stream",
          "text": [
            "469/469 [==============================] - 20s 42ms/step - loss: 0.3319\n",
            "Epoch 62/150\n",
            "467/469 [============================>.] - ETA: 0s - loss: 0.3319\n",
            "Saved to /content/images/generated_img_061.png\n"
          ]
        },
        {
          "data": {
            "image/png": "[encoded data removed]",
            "text/plain": [
              "<Figure size 2000x300 with 10 Axes>"
            ]
          },
          "metadata": {},
          "output_type": "display_data"
        },
        {
          "metadata": {
            "tags": null
          },
          "name": "stdout",
          "output_type": "stream",
          "text": [
            "469/469 [==============================] - 21s 44ms/step - loss: 0.3319\n",
            "Epoch 63/150\n",
            "467/469 [============================>.] - ETA: 0s - loss: 0.3319\n",
            "Saved to /content/images/generated_img_062.png\n"
          ]
        },
        {
          "data": {
            "image/png": "[encoded data removed]",
            "text/plain": [
              "<Figure size 2000x300 with 10 Axes>"
            ]
          },
          "metadata": {},
          "output_type": "display_data"
        },
        {
          "metadata": {
            "tags": null
          },
          "name": "stdout",
          "output_type": "stream",
          "text": [
            "469/469 [==============================] - 20s 42ms/step - loss: 0.3318\n",
            "Epoch 64/150\n",
            "468/469 [============================>.] - ETA: 0s - loss: 0.3316\n",
            "Saved to /content/images/generated_img_063.png\n"
          ]
        },
        {
          "data": {
            "image/png": "[encoded data removed]",
            "text/plain": [
              "<Figure size 2000x300 with 10 Axes>"
            ]
          },
          "metadata": {},
          "output_type": "display_data"
        },
        {
          "metadata": {
            "tags": null
          },
          "name": "stdout",
          "output_type": "stream",
          "text": [
            "469/469 [==============================] - 20s 44ms/step - loss: 0.3316\n",
            "Epoch 65/150\n",
            "466/469 [============================>.] - ETA: 0s - loss: 0.3312\n",
            "Saved to /content/images/generated_img_064.png\n"
          ]
        },
        {
          "data": {
            "image/png": "[encoded data removed]",
            "text/plain": [
              "<Figure size 2000x300 with 10 Axes>"
            ]
          },
          "metadata": {},
          "output_type": "display_data"
        },
        {
          "metadata": {
            "tags": null
          },
          "name": "stdout",
          "output_type": "stream",
          "text": [
            "469/469 [==============================] - 20s 43ms/step - loss: 0.3312\n",
            "Epoch 66/150\n",
            "469/469 [==============================] - ETA: 0s - loss: 0.3310\n",
            "Saved to /content/images/generated_img_065.png\n"
          ]
        },
        {
          "data": {
            "image/png": "[encoded data removed]",
            "text/plain": [
              "<Figure size 2000x300 with 10 Axes>"
            ]
          },
          "metadata": {},
          "output_type": "display_data"
        },
        {
          "metadata": {
            "tags": null
          },
          "name": "stdout",
          "output_type": "stream",
          "text": [
            "469/469 [==============================] - 20s 43ms/step - loss: 0.3310\n",
            "Epoch 67/150\n",
            "468/469 [============================>.] - ETA: 0s - loss: 0.3310\n",
            "Saved to /content/images/generated_img_066.png\n"
          ]
        },
        {
          "data": {
            "image/png": "[encoded data removed]",
            "text/plain": [
              "<Figure size 2000x300 with 10 Axes>"
            ]
          },
          "metadata": {},
          "output_type": "display_data"
        },
        {
          "metadata": {
            "tags": null
          },
          "name": "stdout",
          "output_type": "stream",
          "text": [
            "469/469 [==============================] - 21s 45ms/step - loss: 0.3310\n",
            "Epoch 68/150\n",
            "468/469 [============================>.] - ETA: 0s - loss: 0.3307\n",
            "Saved to /content/images/generated_img_067.png\n"
          ]
        },
        {
          "data": {
            "image/png": "[encoded data removed]",
            "text/plain": [
              "<Figure size 2000x300 with 10 Axes>"
            ]
          },
          "metadata": {},
          "output_type": "display_data"
        },
        {
          "metadata": {
            "tags": null
          },
          "name": "stdout",
          "output_type": "stream",
          "text": [
            "469/469 [==============================] - 19s 41ms/step - loss: 0.3307\n",
            "Epoch 69/150\n",
            "468/469 [============================>.] - ETA: 0s - loss: 0.3307\n",
            "Saved to /content/images/generated_img_068.png\n"
          ]
        },
        {
          "data": {
            "image/png": "[encoded data removed]",
            "text/plain": [
              "<Figure size 2000x300 with 10 Axes>"
            ]
          },
          "metadata": {},
          "output_type": "display_data"
        },
        {
          "metadata": {
            "tags": null
          },
          "name": "stdout",
          "output_type": "stream",
          "text": [
            "469/469 [==============================] - 19s 41ms/step - loss: 0.3307\n",
            "Epoch 70/150\n",
            "468/469 [============================>.] - ETA: 0s - loss: 0.3304\n",
            "Saved to /content/images/generated_img_069.png\n"
          ]
        },
        {
          "data": {
            "image/png": "[encoded data removed]",
            "text/plain": [
              "<Figure size 2000x300 with 10 Axes>"
            ]
          },
          "metadata": {},
          "output_type": "display_data"
        },
        {
          "metadata": {
            "tags": null
          },
          "name": "stdout",
          "output_type": "stream",
          "text": [
            "469/469 [==============================] - 20s 44ms/step - loss: 0.3304\n",
            "Epoch 71/150\n",
            "467/469 [============================>.] - ETA: 0s - loss: 0.3302\n",
            "Saved to /content/images/generated_img_070.png\n"
          ]
        },
        {
          "data": {
            "image/png": "[encoded data removed]",
            "text/plain": [
              "<Figure size 2000x300 with 10 Axes>"
            ]
          },
          "metadata": {},
          "output_type": "display_data"
        },
        {
          "metadata": {
            "tags": null
          },
          "name": "stdout",
          "output_type": "stream",
          "text": [
            "469/469 [==============================] - 20s 42ms/step - loss: 0.3302\n",
            "Epoch 72/150\n",
            "468/469 [============================>.] - ETA: 0s - loss: 0.3301\n",
            "Saved to /content/images/generated_img_071.png\n"
          ]
        },
        {
          "data": {
            "image/png": "[encoded data removed]",
            "text/plain": [
              "<Figure size 2000x300 with 10 Axes>"
            ]
          },
          "metadata": {},
          "output_type": "display_data"
        },
        {
          "metadata": {
            "tags": null
          },
          "name": "stdout",
          "output_type": "stream",
          "text": [
            "469/469 [==============================] - 21s 45ms/step - loss: 0.3301\n",
            "Epoch 73/150\n",
            "468/469 [============================>.] - ETA: 0s - loss: 0.3299\n",
            "Saved to /content/images/generated_img_072.png\n"
          ]
        },
        {
          "data": {
            "image/png": "[encoded data removed]",
            "text/plain": [
              "<Figure size 2000x300 with 10 Axes>"
            ]
          },
          "metadata": {},
          "output_type": "display_data"
        },
        {
          "metadata": {
            "tags": null
          },
          "name": "stdout",
          "output_type": "stream",
          "text": [
            "469/469 [==============================] - 20s 42ms/step - loss: 0.3299\n",
            "Epoch 74/150\n",
            "464/469 [============================>.] - ETA: 0s - loss: 0.3298\n",
            "Saved to /content/images/generated_img_073.png\n"
          ]
        },
        {
          "data": {
            "image/png": "[encoded data removed]",
            "text/plain": [
              "<Figure size 2000x300 with 10 Axes>"
            ]
          },
          "metadata": {},
          "output_type": "display_data"
        },
        {
          "metadata": {
            "tags": null
          },
          "name": "stdout",
          "output_type": "stream",
          "text": [
            "469/469 [==============================] - 20s 42ms/step - loss: 0.3298\n",
            "Epoch 75/150\n",
            "466/469 [============================>.] - ETA: 0s - loss: 0.3298\n",
            "Saved to /content/images/generated_img_074.png\n"
          ]
        },
        {
          "data": {
            "image/png": "[encoded data removed]",
            "text/plain": [
              "<Figure size 2000x300 with 10 Axes>"
            ]
          },
          "metadata": {},
          "output_type": "display_data"
        },
        {
          "metadata": {
            "tags": null
          },
          "name": "stdout",
          "output_type": "stream",
          "text": [
            "469/469 [==============================] - 21s 44ms/step - loss: 0.3298\n",
            "Epoch 76/150\n",
            "465/469 [============================>.] - ETA: 0s - loss: 0.3295\n",
            "Saved to /content/images/generated_img_075.png\n"
          ]
        },
        {
          "data": {
            "image/png": "[encoded data removed]",
            "text/plain": [
              "<Figure size 2000x300 with 10 Axes>"
            ]
          },
          "metadata": {},
          "output_type": "display_data"
        },
        {
          "metadata": {
            "tags": null
          },
          "name": "stdout",
          "output_type": "stream",
          "text": [
            "469/469 [==============================] - 20s 42ms/step - loss: 0.3295\n",
            "Epoch 77/150\n",
            "467/469 [============================>.] - ETA: 0s - loss: 0.3294\n",
            "Saved to /content/images/generated_img_076.png\n"
          ]
        },
        {
          "data": {
            "image/png": "[encoded data removed]",
            "text/plain": [
              "<Figure size 2000x300 with 10 Axes>"
            ]
          },
          "metadata": {},
          "output_type": "display_data"
        },
        {
          "metadata": {
            "tags": null
          },
          "name": "stdout",
          "output_type": "stream",
          "text": [
            "469/469 [==============================] - 21s 44ms/step - loss: 0.3294\n",
            "Epoch 78/150\n",
            "465/469 [============================>.] - ETA: 0s - loss: 0.3293\n",
            "Saved to /content/images/generated_img_077.png\n"
          ]
        },
        {
          "data": {
            "image/png": "[encoded data removed]",
            "text/plain": [
              "<Figure size 2000x300 with 10 Axes>"
            ]
          },
          "metadata": {},
          "output_type": "display_data"
        },
        {
          "metadata": {
            "tags": null
          },
          "name": "stdout",
          "output_type": "stream",
          "text": [
            "469/469 [==============================] - 20s 43ms/step - loss: 0.3293\n",
            "Epoch 79/150\n",
            "467/469 [============================>.] - ETA: 0s - loss: 0.3292\n",
            "Saved to /content/images/generated_img_078.png\n"
          ]
        },
        {
          "data": {
            "image/png": "[encoded data removed]",
            "text/plain": [
              "<Figure size 2000x300 with 10 Axes>"
            ]
          },
          "metadata": {},
          "output_type": "display_data"
        },
        {
          "metadata": {
            "tags": null
          },
          "name": "stdout",
          "output_type": "stream",
          "text": [
            "469/469 [==============================] - 20s 43ms/step - loss: 0.3291\n",
            "Epoch 80/150\n",
            "466/469 [============================>.] - ETA: 0s - loss: 0.3289\n",
            "Saved to /content/images/generated_img_079.png\n"
          ]
        },
        {
          "data": {
            "image/png": "[encoded data removed]",
            "text/plain": [
              "<Figure size 2000x300 with 10 Axes>"
            ]
          },
          "metadata": {},
          "output_type": "display_data"
        },
        {
          "metadata": {
            "tags": null
          },
          "name": "stdout",
          "output_type": "stream",
          "text": [
            "469/469 [==============================] - 21s 44ms/step - loss: 0.3290\n",
            "Epoch 81/150\n",
            "466/469 [============================>.] - ETA: 0s - loss: 0.3288\n",
            "Saved to /content/images/generated_img_080.png\n"
          ]
        },
        {
          "data": {
            "image/png": "[encoded data removed]",
            "text/plain": [
              "<Figure size 2000x300 with 10 Axes>"
            ]
          },
          "metadata": {},
          "output_type": "display_data"
        },
        {
          "metadata": {
            "tags": null
          },
          "name": "stdout",
          "output_type": "stream",
          "text": [
            "469/469 [==============================] - 20s 42ms/step - loss: 0.3289\n",
            "Epoch 82/150\n",
            "464/469 [============================>.] - ETA: 0s - loss: 0.3287\n",
            "Saved to /content/images/generated_img_081.png\n"
          ]
        },
        {
          "data": {
            "image/png": "[encoded data removed]",
            "text/plain": [
              "<Figure size 2000x300 with 10 Axes>"
            ]
          },
          "metadata": {},
          "output_type": "display_data"
        },
        {
          "metadata": {
            "tags": null
          },
          "name": "stdout",
          "output_type": "stream",
          "text": [
            "469/469 [==============================] - 20s 42ms/step - loss: 0.3287\n",
            "Epoch 83/150\n",
            "466/469 [============================>.] - ETA: 0s - loss: 0.3287\n",
            "Saved to /content/images/generated_img_082.png\n"
          ]
        },
        {
          "data": {
            "image/png": "[encoded data removed]",
            "text/plain": [
              "<Figure size 2000x300 with 10 Axes>"
            ]
          },
          "metadata": {},
          "output_type": "display_data"
        },
        {
          "metadata": {
            "tags": null
          },
          "name": "stdout",
          "output_type": "stream",
          "text": [
            "469/469 [==============================] - 21s 44ms/step - loss: 0.3286\n",
            "Epoch 84/150\n",
            "466/469 [============================>.] - ETA: 0s - loss: 0.3285\n",
            "Saved to /content/images/generated_img_083.png\n"
          ]
        },
        {
          "data": {
            "image/png": "[encoded data removed]",
            "text/plain": [
              "<Figure size 2000x300 with 10 Axes>"
            ]
          },
          "metadata": {},
          "output_type": "display_data"
        },
        {
          "metadata": {
            "tags": null
          },
          "name": "stdout",
          "output_type": "stream",
          "text": [
            "469/469 [==============================] - 20s 42ms/step - loss: 0.3285\n",
            "Epoch 85/150\n",
            "468/469 [============================>.] - ETA: 0s - loss: 0.3285\n",
            "Saved to /content/images/generated_img_084.png\n"
          ]
        },
        {
          "data": {
            "image/png": "[encoded data removed]",
            "text/plain": [
              "<Figure size 2000x300 with 10 Axes>"
            ]
          },
          "metadata": {},
          "output_type": "display_data"
        },
        {
          "metadata": {
            "tags": null
          },
          "name": "stdout",
          "output_type": "stream",
          "text": [
            "469/469 [==============================] - 21s 45ms/step - loss: 0.3285\n",
            "Epoch 86/150\n",
            "466/469 [============================>.] - ETA: 0s - loss: 0.3283\n",
            "Saved to /content/images/generated_img_085.png\n"
          ]
        },
        {
          "data": {
            "image/png": "[encoded data removed]",
            "text/plain": [
              "<Figure size 2000x300 with 10 Axes>"
            ]
          },
          "metadata": {},
          "output_type": "display_data"
        },
        {
          "metadata": {
            "tags": null
          },
          "name": "stdout",
          "output_type": "stream",
          "text": [
            "469/469 [==============================] - 20s 43ms/step - loss: 0.3283\n",
            "Epoch 87/150\n",
            "465/469 [============================>.] - ETA: 0s - loss: 0.3281\n",
            "Saved to /content/images/generated_img_086.png\n"
          ]
        },
        {
          "data": {
            "image/png": "[encoded data removed]",
            "text/plain": [
              "<Figure size 2000x300 with 10 Axes>"
            ]
          },
          "metadata": {},
          "output_type": "display_data"
        },
        {
          "metadata": {
            "tags": null
          },
          "name": "stdout",
          "output_type": "stream",
          "text": [
            "469/469 [==============================] - 20s 43ms/step - loss: 0.3281\n",
            "Epoch 88/150\n",
            "464/469 [============================>.] - ETA: 0s - loss: 0.3280\n",
            "Saved to /content/images/generated_img_087.png\n"
          ]
        },
        {
          "data": {
            "image/png": "[encoded data removed]",
            "text/plain": [
              "<Figure size 2000x300 with 10 Axes>"
            ]
          },
          "metadata": {},
          "output_type": "display_data"
        },
        {
          "metadata": {
            "tags": null
          },
          "name": "stdout",
          "output_type": "stream",
          "text": [
            "469/469 [==============================] - 20s 43ms/step - loss: 0.3280\n",
            "Epoch 89/150\n",
            "467/469 [============================>.] - ETA: 0s - loss: 0.3279\n",
            "Saved to /content/images/generated_img_088.png\n"
          ]
        },
        {
          "data": {
            "image/png": "[encoded data removed]",
            "text/plain": [
              "<Figure size 2000x300 with 10 Axes>"
            ]
          },
          "metadata": {},
          "output_type": "display_data"
        },
        {
          "metadata": {
            "tags": null
          },
          "name": "stdout",
          "output_type": "stream",
          "text": [
            "469/469 [==============================] - 20s 42ms/step - loss: 0.3279\n",
            "Epoch 90/150\n",
            "469/469 [==============================] - ETA: 0s - loss: 0.3278\n",
            "Saved to /content/images/generated_img_089.png\n"
          ]
        },
        {
          "data": {
            "image/png": "[encoded data removed]",
            "text/plain": [
              "<Figure size 2000x300 with 10 Axes>"
            ]
          },
          "metadata": {},
          "output_type": "display_data"
        },
        {
          "metadata": {
            "tags": null
          },
          "name": "stdout",
          "output_type": "stream",
          "text": [
            "469/469 [==============================] - 21s 44ms/step - loss: 0.3278\n",
            "Epoch 91/150\n",
            "465/469 [============================>.] - ETA: 0s - loss: 0.3277\n",
            "Saved to /content/images/generated_img_090.png\n"
          ]
        },
        {
          "data": {
            "image/png": "[encoded data removed]",
            "text/plain": [
              "<Figure size 2000x300 with 10 Axes>"
            ]
          },
          "metadata": {},
          "output_type": "display_data"
        },
        {
          "metadata": {
            "tags": null
          },
          "name": "stdout",
          "output_type": "stream",
          "text": [
            "469/469 [==============================] - 20s 42ms/step - loss: 0.3277\n",
            "Epoch 92/150\n",
            "469/469 [==============================] - ETA: 0s - loss: 0.3275\n",
            "Saved to /content/images/generated_img_091.png\n"
          ]
        },
        {
          "data": {
            "image/png": "[encoded data removed]",
            "text/plain": [
              "<Figure size 2000x300 with 10 Axes>"
            ]
          },
          "metadata": {},
          "output_type": "display_data"
        },
        {
          "metadata": {
            "tags": null
          },
          "name": "stdout",
          "output_type": "stream",
          "text": [
            "469/469 [==============================] - 19s 42ms/step - loss: 0.3275\n",
            "Epoch 93/150\n",
            "467/469 [============================>.] - ETA: 0s - loss: 0.3275\n",
            "Saved to /content/images/generated_img_092.png\n"
          ]
        },
        {
          "data": {
            "image/png": "[encoded data removed]",
            "text/plain": [
              "<Figure size 2000x300 with 10 Axes>"
            ]
          },
          "metadata": {},
          "output_type": "display_data"
        },
        {
          "metadata": {
            "tags": null
          },
          "name": "stdout",
          "output_type": "stream",
          "text": [
            "469/469 [==============================] - 21s 45ms/step - loss: 0.3276\n",
            "Epoch 94/150\n",
            "467/469 [============================>.] - ETA: 0s - loss: 0.3273\n",
            "Saved to /content/images/generated_img_093.png\n"
          ]
        },
        {
          "data": {
            "image/png": "[encoded data removed]",
            "text/plain": [
              "<Figure size 2000x300 with 10 Axes>"
            ]
          },
          "metadata": {},
          "output_type": "display_data"
        },
        {
          "metadata": {
            "tags": null
          },
          "name": "stdout",
          "output_type": "stream",
          "text": [
            "469/469 [==============================] - 20s 42ms/step - loss: 0.3272\n",
            "Epoch 95/150\n",
            "468/469 [============================>.] - ETA: 0s - loss: 0.3273\n",
            "Saved to /content/images/generated_img_094.png\n"
          ]
        },
        {
          "data": {
            "image/png": "[encoded data removed]",
            "text/plain": [
              "<Figure size 2000x300 with 10 Axes>"
            ]
          },
          "metadata": {},
          "output_type": "display_data"
        },
        {
          "metadata": {
            "tags": null
          },
          "name": "stdout",
          "output_type": "stream",
          "text": [
            "469/469 [==============================] - 20s 43ms/step - loss: 0.3273\n",
            "Epoch 96/150\n",
            "465/469 [============================>.] - ETA: 0s - loss: 0.3272\n",
            "Saved to /content/images/generated_img_095.png\n"
          ]
        },
        {
          "data": {
            "image/png": "[encoded data removed]",
            "text/plain": [
              "<Figure size 2000x300 with 10 Axes>"
            ]
          },
          "metadata": {},
          "output_type": "display_data"
        },
        {
          "metadata": {
            "tags": null
          },
          "name": "stdout",
          "output_type": "stream",
          "text": [
            "469/469 [==============================] - 20s 43ms/step - loss: 0.3272\n",
            "Epoch 97/150\n",
            "467/469 [============================>.] - ETA: 0s - loss: 0.3271\n",
            "Saved to /content/images/generated_img_096.png\n"
          ]
        },
        {
          "data": {
            "image/png": "[encoded data removed]",
            "text/plain": [
              "<Figure size 2000x300 with 10 Axes>"
            ]
          },
          "metadata": {},
          "output_type": "display_data"
        },
        {
          "metadata": {
            "tags": null
          },
          "name": "stdout",
          "output_type": "stream",
          "text": [
            "469/469 [==============================] - 20s 42ms/step - loss: 0.3270\n",
            "Epoch 98/150\n",
            "468/469 [============================>.] - ETA: 0s - loss: 0.3269\n",
            "Saved to /content/images/generated_img_097.png\n"
          ]
        },
        {
          "data": {
            "image/png": "[encoded data removed]",
            "text/plain": [
              "<Figure size 2000x300 with 10 Axes>"
            ]
          },
          "metadata": {},
          "output_type": "display_data"
        },
        {
          "metadata": {
            "tags": null
          },
          "name": "stdout",
          "output_type": "stream",
          "text": [
            "469/469 [==============================] - 21s 44ms/step - loss: 0.3269\n",
            "Epoch 99/150\n",
            "464/469 [============================>.] - ETA: 0s - loss: 0.3269\n",
            "Saved to /content/images/generated_img_098.png\n"
          ]
        },
        {
          "data": {
            "image/png": "[encoded data removed]",
            "text/plain": [
              "<Figure size 2000x300 with 10 Axes>"
            ]
          },
          "metadata": {},
          "output_type": "display_data"
        },
        {
          "metadata": {
            "tags": null
          },
          "name": "stdout",
          "output_type": "stream",
          "text": [
            "469/469 [==============================] - 20s 42ms/step - loss: 0.3268\n",
            "Epoch 100/150\n",
            "465/469 [============================>.] - ETA: 0s - loss: 0.3267\n",
            "Saved to /content/images/generated_img_099.png\n"
          ]
        },
        {
          "data": {
            "image/png": "[encoded data removed]",
            "text/plain": [
              "<Figure size 2000x300 with 10 Axes>"
            ]
          },
          "metadata": {},
          "output_type": "display_data"
        },
        {
          "metadata": {
            "tags": null
          },
          "name": "stdout",
          "output_type": "stream",
          "text": [
            "469/469 [==============================] - 20s 43ms/step - loss: 0.3267\n",
            "Epoch 101/150\n",
            "466/469 [============================>.] - ETA: 0s - loss: 0.3267\n",
            "Saved to /content/images/generated_img_100.png\n"
          ]
        },
        {
          "data": {
            "image/png": "[encoded data removed]",
            "text/plain": [
              "<Figure size 2000x300 with 10 Axes>"
            ]
          },
          "metadata": {},
          "output_type": "display_data"
        },
        {
          "metadata": {
            "tags": null
          },
          "name": "stdout",
          "output_type": "stream",
          "text": [
            "469/469 [==============================] - 21s 44ms/step - loss: 0.3267\n",
            "Epoch 102/150\n",
            "466/469 [============================>.] - ETA: 0s - loss: 0.3266\n",
            "Saved to /content/images/generated_img_101.png\n"
          ]
        },
        {
          "data": {
            "image/png": "[encoded data removed]",
            "text/plain": [
              "<Figure size 2000x300 with 10 Axes>"
            ]
          },
          "metadata": {},
          "output_type": "display_data"
        },
        {
          "metadata": {
            "tags": null
          },
          "name": "stdout",
          "output_type": "stream",
          "text": [
            "469/469 [==============================] - 20s 42ms/step - loss: 0.3267\n",
            "Epoch 103/150\n",
            "465/469 [============================>.] - ETA: 0s - loss: 0.3265\n",
            "Saved to /content/images/generated_img_102.png\n"
          ]
        },
        {
          "data": {
            "image/png": "[encoded data removed]",
            "text/plain": [
              "<Figure size 2000x300 with 10 Axes>"
            ]
          },
          "metadata": {},
          "output_type": "display_data"
        },
        {
          "metadata": {
            "tags": null
          },
          "name": "stdout",
          "output_type": "stream",
          "text": [
            "469/469 [==============================] - 21s 44ms/step - loss: 0.3265\n",
            "Epoch 104/150\n",
            "467/469 [============================>.] - ETA: 0s - loss: 0.3263\n",
            "Saved to /content/images/generated_img_103.png\n"
          ]
        },
        {
          "data": {
            "image/png": "[encoded data removed]",
            "text/plain": [
              "<Figure size 2000x300 with 10 Axes>"
            ]
          },
          "metadata": {},
          "output_type": "display_data"
        },
        {
          "metadata": {
            "tags": null
          },
          "name": "stdout",
          "output_type": "stream",
          "text": [
            "469/469 [==============================] - 20s 43ms/step - loss: 0.3264\n",
            "Epoch 105/150\n",
            "468/469 [============================>.] - ETA: 0s - loss: 0.3264\n",
            "Saved to /content/images/generated_img_104.png\n"
          ]
        },
        {
          "data": {
            "image/png": "[encoded data removed]",
            "text/plain": [
              "<Figure size 2000x300 with 10 Axes>"
            ]
          },
          "metadata": {},
          "output_type": "display_data"
        },
        {
          "metadata": {
            "tags": null
          },
          "name": "stdout",
          "output_type": "stream",
          "text": [
            "469/469 [==============================] - 20s 42ms/step - loss: 0.3263\n",
            "Epoch 106/150\n",
            "467/469 [============================>.] - ETA: 0s - loss: 0.3262\n",
            "Saved to /content/images/generated_img_105.png\n"
          ]
        },
        {
          "data": {
            "image/png": "[encoded data removed]",
            "text/plain": [
              "<Figure size 2000x300 with 10 Axes>"
            ]
          },
          "metadata": {},
          "output_type": "display_data"
        },
        {
          "metadata": {
            "tags": null
          },
          "name": "stdout",
          "output_type": "stream",
          "text": [
            "469/469 [==============================] - 21s 45ms/step - loss: 0.3262\n",
            "Epoch 107/150\n",
            "468/469 [============================>.] - ETA: 0s - loss: 0.3261\n",
            "Saved to /content/images/generated_img_106.png\n"
          ]
        },
        {
          "data": {
            "image/png": "[encoded data removed]",
            "text/plain": [
              "<Figure size 2000x300 with 10 Axes>"
            ]
          },
          "metadata": {},
          "output_type": "display_data"
        },
        {
          "metadata": {
            "tags": null
          },
          "name": "stdout",
          "output_type": "stream",
          "text": [
            "469/469 [==============================] - 20s 43ms/step - loss: 0.3261\n",
            "Epoch 108/150\n",
            "469/469 [==============================] - ETA: 0s - loss: 0.3260\n",
            "Saved to /content/images/generated_img_107.png\n"
          ]
        },
        {
          "data": {
            "image/png": "[encoded data removed]",
            "text/plain": [
              "<Figure size 2000x300 with 10 Axes>"
            ]
          },
          "metadata": {},
          "output_type": "display_data"
        },
        {
          "metadata": {
            "tags": null
          },
          "name": "stdout",
          "output_type": "stream",
          "text": [
            "469/469 [==============================] - 20s 43ms/step - loss: 0.3260\n",
            "Epoch 109/150\n",
            "467/469 [============================>.] - ETA: 0s - loss: 0.3258\n",
            "Saved to /content/images/generated_img_108.png\n"
          ]
        },
        {
          "data": {
            "image/png": "[encoded data removed]",
            "text/plain": [
              "<Figure size 2000x300 with 10 Axes>"
            ]
          },
          "metadata": {},
          "output_type": "display_data"
        },
        {
          "metadata": {
            "tags": null
          },
          "name": "stdout",
          "output_type": "stream",
          "text": [
            "469/469 [==============================] - 21s 45ms/step - loss: 0.3259\n",
            "Epoch 110/150\n",
            "467/469 [============================>.] - ETA: 0s - loss: 0.3259\n",
            "Saved to /content/images/generated_img_109.png\n"
          ]
        },
        {
          "data": {
            "image/png": "[encoded data removed]",
            "text/plain": [
              "<Figure size 2000x300 with 10 Axes>"
            ]
          },
          "metadata": {},
          "output_type": "display_data"
        },
        {
          "metadata": {
            "tags": null
          },
          "name": "stdout",
          "output_type": "stream",
          "text": [
            "469/469 [==============================] - 19s 42ms/step - loss: 0.3259\n",
            "Epoch 111/150\n",
            "467/469 [============================>.] - ETA: 0s - loss: 0.3257\n",
            "Saved to /content/images/generated_img_110.png\n"
          ]
        },
        {
          "data": {
            "image/png": "[encoded data removed]",
            "text/plain": [
              "<Figure size 2000x300 with 10 Axes>"
            ]
          },
          "metadata": {},
          "output_type": "display_data"
        },
        {
          "metadata": {
            "tags": null
          },
          "name": "stdout",
          "output_type": "stream",
          "text": [
            "469/469 [==============================] - 21s 45ms/step - loss: 0.3257\n",
            "Epoch 112/150\n",
            "469/469 [==============================] - ETA: 0s - loss: 0.3256\n",
            "Saved to /content/images/generated_img_111.png\n"
          ]
        },
        {
          "data": {
            "image/png": "[encoded data removed]",
            "text/plain": [
              "<Figure size 2000x300 with 10 Axes>"
            ]
          },
          "metadata": {},
          "output_type": "display_data"
        },
        {
          "metadata": {
            "tags": null
          },
          "name": "stdout",
          "output_type": "stream",
          "text": [
            "469/469 [==============================] - 20s 43ms/step - loss: 0.3256\n",
            "Epoch 113/150\n",
            "466/469 [============================>.] - ETA: 0s - loss: 0.3256\n",
            "Saved to /content/images/generated_img_112.png\n"
          ]
        },
        {
          "data": {
            "image/png": "[encoded data removed]",
            "text/plain": [
              "<Figure size 2000x300 with 10 Axes>"
            ]
          },
          "metadata": {},
          "output_type": "display_data"
        },
        {
          "metadata": {
            "tags": null
          },
          "name": "stdout",
          "output_type": "stream",
          "text": [
            "469/469 [==============================] - 20s 43ms/step - loss: 0.3257\n",
            "Epoch 114/150\n",
            "468/469 [============================>.] - ETA: 0s - loss: 0.3256\n",
            "Saved to /content/images/generated_img_113.png\n"
          ]
        },
        {
          "data": {
            "image/png": "[encoded data removed]",
            "text/plain": [
              "<Figure size 2000x300 with 10 Axes>"
            ]
          },
          "metadata": {},
          "output_type": "display_data"
        },
        {
          "metadata": {
            "tags": null
          },
          "name": "stdout",
          "output_type": "stream",
          "text": [
            "469/469 [==============================] - 21s 44ms/step - loss: 0.3255\n",
            "Epoch 115/150\n",
            "465/469 [============================>.] - ETA: 0s - loss: 0.3253\n",
            "Saved to /content/images/generated_img_114.png\n"
          ]
        },
        {
          "data": {
            "image/png": "[encoded data removed]",
            "text/plain": [
              "<Figure size 2000x300 with 10 Axes>"
            ]
          },
          "metadata": {},
          "output_type": "display_data"
        },
        {
          "metadata": {
            "tags": null
          },
          "name": "stdout",
          "output_type": "stream",
          "text": [
            "469/469 [==============================] - 19s 41ms/step - loss: 0.3254\n",
            "Epoch 116/150\n",
            "464/469 [============================>.] - ETA: 0s - loss: 0.3253\n",
            "Saved to /content/images/generated_img_115.png\n"
          ]
        },
        {
          "data": {
            "image/png": "[encoded data removed]",
            "text/plain": [
              "<Figure size 2000x300 with 10 Axes>"
            ]
          },
          "metadata": {},
          "output_type": "display_data"
        },
        {
          "metadata": {
            "tags": null
          },
          "name": "stdout",
          "output_type": "stream",
          "text": [
            "469/469 [==============================] - 21s 45ms/step - loss: 0.3253\n",
            "Epoch 117/150\n",
            "465/469 [============================>.] - ETA: 0s - loss: 0.3251\n",
            "Saved to /content/images/generated_img_116.png\n"
          ]
        },
        {
          "data": {
            "image/png": "[encoded data removed]",
            "text/plain": [
              "<Figure size 2000x300 with 10 Axes>"
            ]
          },
          "metadata": {},
          "output_type": "display_data"
        },
        {
          "metadata": {
            "tags": null
          },
          "name": "stdout",
          "output_type": "stream",
          "text": [
            "469/469 [==============================] - 20s 43ms/step - loss: 0.3251\n",
            "Epoch 118/150\n",
            "466/469 [============================>.] - ETA: 0s - loss: 0.3251\n",
            "Saved to /content/images/generated_img_117.png\n"
          ]
        },
        {
          "data": {
            "image/png": "[encoded data removed]",
            "text/plain": [
              "<Figure size 2000x300 with 10 Axes>"
            ]
          },
          "metadata": {},
          "output_type": "display_data"
        },
        {
          "metadata": {
            "tags": null
          },
          "name": "stdout",
          "output_type": "stream",
          "text": [
            "469/469 [==============================] - 19s 41ms/step - loss: 0.3251\n",
            "Epoch 119/150\n",
            "465/469 [============================>.] - ETA: 0s - loss: 0.3252\n",
            "Saved to /content/images/generated_img_118.png\n"
          ]
        },
        {
          "data": {
            "image/png": "[encoded data removed]",
            "text/plain": [
              "<Figure size 2000x300 with 10 Axes>"
            ]
          },
          "metadata": {},
          "output_type": "display_data"
        },
        {
          "metadata": {
            "tags": null
          },
          "name": "stdout",
          "output_type": "stream",
          "text": [
            "469/469 [==============================] - 21s 44ms/step - loss: 0.3252\n",
            "Epoch 120/150\n",
            "465/469 [============================>.] - ETA: 0s - loss: 0.3250\n",
            "Saved to /content/images/generated_img_119.png\n"
          ]
        },
        {
          "data": {
            "image/png": "[encoded data removed]",
            "text/plain": [
              "<Figure size 2000x300 with 10 Axes>"
            ]
          },
          "metadata": {},
          "output_type": "display_data"
        },
        {
          "metadata": {
            "tags": null
          },
          "name": "stdout",
          "output_type": "stream",
          "text": [
            "469/469 [==============================] - 20s 42ms/step - loss: 0.3250\n",
            "Epoch 121/150\n",
            "466/469 [============================>.] - ETA: 0s - loss: 0.3250\n",
            "Saved to /content/images/generated_img_120.png\n"
          ]
        },
        {
          "data": {
            "image/png": "[encoded data removed]",
            "text/plain": [
              "<Figure size 2000x300 with 10 Axes>"
            ]
          },
          "metadata": {},
          "output_type": "display_data"
        },
        {
          "metadata": {
            "tags": null
          },
          "name": "stdout",
          "output_type": "stream",
          "text": [
            "469/469 [==============================] - 20s 43ms/step - loss: 0.3250\n",
            "Epoch 122/150\n",
            "465/469 [============================>.] - ETA: 0s - loss: 0.3248\n",
            "Saved to /content/images/generated_img_121.png\n"
          ]
        },
        {
          "data": {
            "image/png": "[encoded data removed]",
            "text/plain": [
              "<Figure size 2000x300 with 10 Axes>"
            ]
          },
          "metadata": {},
          "output_type": "display_data"
        },
        {
          "metadata": {
            "tags": null
          },
          "name": "stdout",
          "output_type": "stream",
          "text": [
            "469/469 [==============================] - 21s 44ms/step - loss: 0.3248\n",
            "Epoch 123/150\n",
            "466/469 [============================>.] - ETA: 0s - loss: 0.3249\n",
            "Saved to /content/images/generated_img_122.png\n"
          ]
        },
        {
          "data": {
            "image/png": "[encoded data removed]",
            "text/plain": [
              "<Figure size 2000x300 with 10 Axes>"
            ]
          },
          "metadata": {},
          "output_type": "display_data"
        },
        {
          "metadata": {
            "tags": null
          },
          "name": "stdout",
          "output_type": "stream",
          "text": [
            "469/469 [==============================] - 20s 42ms/step - loss: 0.3249\n",
            "Epoch 124/150\n",
            "468/469 [============================>.] - ETA: 0s - loss: 0.3246\n",
            "Saved to /content/images/generated_img_123.png\n"
          ]
        },
        {
          "data": {
            "image/png": "[encoded data removed]",
            "text/plain": [
              "<Figure size 2000x300 with 10 Axes>"
            ]
          },
          "metadata": {},
          "output_type": "display_data"
        },
        {
          "metadata": {
            "tags": null
          },
          "name": "stdout",
          "output_type": "stream",
          "text": [
            "469/469 [==============================] - 21s 44ms/step - loss: 0.3246\n",
            "Epoch 125/150\n",
            "466/469 [============================>.] - ETA: 0s - loss: 0.3246\n",
            "Saved to /content/images/generated_img_124.png\n"
          ]
        },
        {
          "data": {
            "image/png": "[encoded data removed]",
            "text/plain": [
              "<Figure size 2000x300 with 10 Axes>"
            ]
          },
          "metadata": {},
          "output_type": "display_data"
        },
        {
          "metadata": {
            "tags": null
          },
          "name": "stdout",
          "output_type": "stream",
          "text": [
            "469/469 [==============================] - 20s 42ms/step - loss: 0.3246\n",
            "Epoch 126/150\n",
            "468/469 [============================>.] - ETA: 0s - loss: 0.3245\n",
            "Saved to /content/images/generated_img_125.png\n"
          ]
        },
        {
          "data": {
            "image/png": "[encoded data removed]",
            "text/plain": [
              "<Figure size 2000x300 with 10 Axes>"
            ]
          },
          "metadata": {},
          "output_type": "display_data"
        },
        {
          "metadata": {
            "tags": null
          },
          "name": "stdout",
          "output_type": "stream",
          "text": [
            "469/469 [==============================] - 20s 42ms/step - loss: 0.3245\n",
            "Epoch 127/150\n",
            "468/469 [============================>.] - ETA: 0s - loss: 0.3246\n",
            "Saved to /content/images/generated_img_126.png\n"
          ]
        },
        {
          "data": {
            "image/png": "[encoded data removed]",
            "text/plain": [
              "<Figure size 2000x300 with 10 Axes>"
            ]
          },
          "metadata": {},
          "output_type": "display_data"
        },
        {
          "metadata": {
            "tags": null
          },
          "name": "stdout",
          "output_type": "stream",
          "text": [
            "469/469 [==============================] - 21s 44ms/step - loss: 0.3245\n",
            "Epoch 128/150\n",
            "466/469 [============================>.] - ETA: 0s - loss: 0.3244\n",
            "Saved to /content/images/generated_img_127.png\n"
          ]
        },
        {
          "data": {
            "image/png": "[encoded data removed]",
            "text/plain": [
              "<Figure size 2000x300 with 10 Axes>"
            ]
          },
          "metadata": {},
          "output_type": "display_data"
        },
        {
          "metadata": {
            "tags": null
          },
          "name": "stdout",
          "output_type": "stream",
          "text": [
            "469/469 [==============================] - 20s 42ms/step - loss: 0.3244\n",
            "Epoch 129/150\n",
            "468/469 [============================>.] - ETA: 0s - loss: 0.3244\n",
            "Saved to /content/images/generated_img_128.png\n"
          ]
        },
        {
          "data": {
            "image/png": "[encoded data removed]",
            "text/plain": [
              "<Figure size 2000x300 with 10 Axes>"
            ]
          },
          "metadata": {},
          "output_type": "display_data"
        },
        {
          "metadata": {
            "tags": null
          },
          "name": "stdout",
          "output_type": "stream",
          "text": [
            "469/469 [==============================] - 21s 44ms/step - loss: 0.3243\n",
            "Epoch 130/150\n",
            "466/469 [============================>.] - ETA: 0s - loss: 0.3244\n",
            "Saved to /content/images/generated_img_129.png\n"
          ]
        },
        {
          "data": {
            "image/png": "[encoded data removed]",
            "text/plain": [
              "<Figure size 2000x300 with 10 Axes>"
            ]
          },
          "metadata": {},
          "output_type": "display_data"
        },
        {
          "metadata": {
            "tags": null
          },
          "name": "stdout",
          "output_type": "stream",
          "text": [
            "469/469 [==============================] - 20s 42ms/step - loss: 0.3243\n",
            "Epoch 131/150\n",
            "466/469 [============================>.] - ETA: 0s - loss: 0.3240\n",
            "Saved to /content/images/generated_img_130.png\n"
          ]
        },
        {
          "data": {
            "image/png": "[encoded data removed]",
            "text/plain": [
              "<Figure size 2000x300 with 10 Axes>"
            ]
          },
          "metadata": {},
          "output_type": "display_data"
        },
        {
          "metadata": {
            "tags": null
          },
          "name": "stdout",
          "output_type": "stream",
          "text": [
            "469/469 [==============================] - 20s 42ms/step - loss: 0.3241\n",
            "Epoch 132/150\n",
            "466/469 [============================>.] - ETA: 0s - loss: 0.3243\n",
            "Saved to /content/images/generated_img_131.png\n"
          ]
        },
        {
          "data": {
            "image/png": "[encoded data removed]",
            "text/plain": [
              "<Figure size 2000x300 with 10 Axes>"
            ]
          },
          "metadata": {},
          "output_type": "display_data"
        },
        {
          "metadata": {
            "tags": null
          },
          "name": "stdout",
          "output_type": "stream",
          "text": [
            "469/469 [==============================] - 21s 44ms/step - loss: 0.3242\n",
            "Epoch 133/150\n",
            "469/469 [==============================] - ETA: 0s - loss: 0.3240\n",
            "Saved to /content/images/generated_img_132.png\n"
          ]
        },
        {
          "data": {
            "image/png": "[encoded data removed]",
            "text/plain": [
              "<Figure size 2000x300 with 10 Axes>"
            ]
          },
          "metadata": {},
          "output_type": "display_data"
        },
        {
          "metadata": {
            "tags": null
          },
          "name": "stdout",
          "output_type": "stream",
          "text": [
            "469/469 [==============================] - 20s 42ms/step - loss: 0.3240\n",
            "Epoch 134/150\n",
            "465/469 [============================>.] - ETA: 0s - loss: 0.3241\n",
            "Saved to /content/images/generated_img_133.png\n"
          ]
        },
        {
          "data": {
            "image/png": "[encoded data removed]",
            "text/plain": [
              "<Figure size 2000x300 with 10 Axes>"
            ]
          },
          "metadata": {},
          "output_type": "display_data"
        },
        {
          "metadata": {
            "tags": null
          },
          "name": "stdout",
          "output_type": "stream",
          "text": [
            "469/469 [==============================] - 20s 42ms/step - loss: 0.3241\n",
            "Epoch 135/150\n",
            "468/469 [============================>.] - ETA: 0s - loss: 0.3240\n",
            "Saved to /content/images/generated_img_134.png\n"
          ]
        },
        {
          "data": {
            "image/png": "[encoded data removed]",
            "text/plain": [
              "<Figure size 2000x300 with 10 Axes>"
            ]
          },
          "metadata": {},
          "output_type": "display_data"
        },
        {
          "metadata": {
            "tags": null
          },
          "name": "stdout",
          "output_type": "stream",
          "text": [
            "469/469 [==============================] - 21s 44ms/step - loss: 0.3239\n",
            "Epoch 136/150\n",
            "467/469 [============================>.] - ETA: 0s - loss: 0.3236\n",
            "Saved to /content/images/generated_img_135.png\n"
          ]
        },
        {
          "data": {
            "image/png": "[encoded data removed]",
            "text/plain": [
              "<Figure size 2000x300 with 10 Axes>"
            ]
          },
          "metadata": {},
          "output_type": "display_data"
        },
        {
          "metadata": {
            "tags": null
          },
          "name": "stdout",
          "output_type": "stream",
          "text": [
            "469/469 [==============================] - 19s 41ms/step - loss: 0.3236\n",
            "Epoch 137/150\n",
            "466/469 [============================>.] - ETA: 0s - loss: 0.3238\n",
            "Saved to /content/images/generated_img_136.png\n"
          ]
        },
        {
          "data": {
            "image/png": "[encoded data removed]",
            "text/plain": [
              "<Figure size 2000x300 with 10 Axes>"
            ]
          },
          "metadata": {},
          "output_type": "display_data"
        },
        {
          "metadata": {
            "tags": null
          },
          "name": "stdout",
          "output_type": "stream",
          "text": [
            "469/469 [==============================] - 21s 45ms/step - loss: 0.3238\n",
            "Epoch 138/150\n",
            "468/469 [============================>.] - ETA: 0s - loss: 0.3237\n",
            "Saved to /content/images/generated_img_137.png\n"
          ]
        },
        {
          "data": {
            "image/png": "[encoded data removed]",
            "text/plain": [
              "<Figure size 2000x300 with 10 Axes>"
            ]
          },
          "metadata": {},
          "output_type": "display_data"
        },
        {
          "metadata": {
            "tags": null
          },
          "name": "stdout",
          "output_type": "stream",
          "text": [
            "469/469 [==============================] - 20s 42ms/step - loss: 0.3237\n",
            "Epoch 139/150\n",
            "466/469 [============================>.] - ETA: 0s - loss: 0.3236\n",
            "Saved to /content/images/generated_img_138.png\n"
          ]
        },
        {
          "data": {
            "image/png": "[encoded data removed]",
            "text/plain": [
              "<Figure size 2000x300 with 10 Axes>"
            ]
          },
          "metadata": {},
          "output_type": "display_data"
        },
        {
          "metadata": {
            "tags": null
          },
          "name": "stdout",
          "output_type": "stream",
          "text": [
            "469/469 [==============================] - 20s 43ms/step - loss: 0.3236\n",
            "Epoch 140/150\n",
            "467/469 [============================>.] - ETA: 0s - loss: 0.3236\n",
            "Saved to /content/images/generated_img_139.png\n"
          ]
        },
        {
          "data": {
            "image/png": "[encoded data removed]",
            "text/plain": [
              "<Figure size 2000x300 with 10 Axes>"
            ]
          },
          "metadata": {},
          "output_type": "display_data"
        },
        {
          "metadata": {
            "tags": null
          },
          "name": "stdout",
          "output_type": "stream",
          "text": [
            "469/469 [==============================] - 20s 43ms/step - loss: 0.3236\n",
            "Epoch 141/150\n",
            "465/469 [============================>.] - ETA: 0s - loss: 0.3234\n",
            "Saved to /content/images/generated_img_140.png\n"
          ]
        },
        {
          "data": {
            "image/png": "[encoded data removed]",
            "text/plain": [
              "<Figure size 2000x300 with 10 Axes>"
            ]
          },
          "metadata": {},
          "output_type": "display_data"
        },
        {
          "metadata": {
            "tags": null
          },
          "name": "stdout",
          "output_type": "stream",
          "text": [
            "469/469 [==============================] - 20s 42ms/step - loss: 0.3234\n",
            "Epoch 142/150\n",
            "467/469 [============================>.] - ETA: 0s - loss: 0.3234\n",
            "Saved to /content/images/generated_img_141.png\n"
          ]
        },
        {
          "data": {
            "image/png": "[encoded data removed]",
            "text/plain": [
              "<Figure size 2000x300 with 10 Axes>"
            ]
          },
          "metadata": {},
          "output_type": "display_data"
        },
        {
          "metadata": {
            "tags": null
          },
          "name": "stdout",
          "output_type": "stream",
          "text": [
            "469/469 [==============================] - 21s 44ms/step - loss: 0.3234\n",
            "Epoch 143/150\n",
            "467/469 [============================>.] - ETA: 0s - loss: 0.3233\n",
            "Saved to /content/images/generated_img_142.png\n"
          ]
        },
        {
          "data": {
            "image/png": "[encoded data removed]",
            "text/plain": [
              "<Figure size 2000x300 with 10 Axes>"
            ]
          },
          "metadata": {},
          "output_type": "display_data"
        },
        {
          "metadata": {
            "tags": null
          },
          "name": "stdout",
          "output_type": "stream",
          "text": [
            "469/469 [==============================] - 20s 42ms/step - loss: 0.3233\n",
            "Epoch 144/150\n",
            "465/469 [============================>.] - ETA: 0s - loss: 0.3231\n",
            "Saved to /content/images/generated_img_143.png\n"
          ]
        },
        {
          "data": {
            "image/png": "[encoded data removed]",
            "text/plain": [
              "<Figure size 2000x300 with 10 Axes>"
            ]
          },
          "metadata": {},
          "output_type": "display_data"
        },
        {
          "metadata": {
            "tags": null
          },
          "name": "stdout",
          "output_type": "stream",
          "text": [
            "469/469 [==============================] - 19s 41ms/step - loss: 0.3231\n",
            "Epoch 145/150\n",
            "467/469 [============================>.] - ETA: 0s - loss: 0.3232\n",
            "Saved to /content/images/generated_img_144.png\n"
          ]
        },
        {
          "data": {
            "image/png": "[encoded data removed]",
            "text/plain": [
              "<Figure size 2000x300 with 10 Axes>"
            ]
          },
          "metadata": {},
          "output_type": "display_data"
        },
        {
          "output_type": "stream",
          "name": "stdout",
          "text": [
            "469/469 [==============================] - 21s 45ms/step - loss: 0.3232\n",
            "Epoch 146/150\n",
            "468/469 [============================>.] - ETA: 0s - loss: 0.3231\n",
            "Saved to /content/images/generated_img_145.png\n"
          ]
        },
        {
          "output_type": "display_data",
          "data": {
            "text/plain": [
              "<Figure size 2000x300 with 10 Axes>"
            ],
            "image/png": "[encoded data removed]"
          },
          "metadata": {}
        },
        {
          "output_type": "stream",
          "name": "stdout",
          "text": [
            "\b\b\b\b\b\b\b\b\b\b\b\b\b\b\b\b\b\b\b\b\b\b\b\b\b\b\b\b\b\b\b\b\b\b\b\b\b\b\b\b\b\b\b\b\b\b\b\b\b\b\b\b\b\b\b\b\b\b\b\b\b\b\b\b\b\r469/469 [==============================] - 20s 42ms/step - loss: 0.3231\n",
            "Epoch 147/150\n",
            "468/469 [============================>.] - ETA: 0s - loss: 0.3231\n",
            "Saved to /content/images/generated_img_146.png\n"
          ]
        },
        {
          "output_type": "display_data",
          "data": {
            "text/plain": [
              "<Figure size 2000x300 with 10 Axes>"
            ],
            "image/png": "[encoded data removed]"
          },
          "metadata": {}
        },
        {
          "output_type": "stream",
          "name": "stdout",
          "text": [
            "\b\b\b\b\b\b\b\b\b\b\b\b\b\b\b\b\b\b\b\b\b\b\b\b\b\b\b\b\b\b\b\b\b\b\b\b\b\b\b\b\b\b\b\b\b\b\b\b\b\b\b\b\b\b\b\b\b\b\b\b\b\b\b\b\b\r469/469 [==============================] - 20s 43ms/step - loss: 0.3231\n",
            "Epoch 148/150\n",
            "467/469 [============================>.] - ETA: 0s - loss: 0.3230\n",
            "Saved to /content/images/generated_img_147.png\n"
          ]
        },
        {
          "output_type": "display_data",
          "data": {
            "text/plain": [
              "<Figure size 2000x300 with 10 Axes>"
            ],
            "image/png": "[encoded data removed]"
          },
          "metadata": {}
        },
        {
          "output_type": "stream",
          "name": "stdout",
          "text": [
            "\b\b\b\b\b\b\b\b\b\b\b\b\b\b\b\b\b\b\b\b\b\b\b\b\b\b\b\b\b\b\b\b\b\b\b\b\b\b\b\b\b\b\b\b\b\b\b\b\b\b\b\b\b\b\b\b\b\b\b\b\b\b\b\b\b\r469/469 [==============================] - 21s 44ms/step - loss: 0.3229\n",
            "Epoch 149/150\n",
            "467/469 [============================>.] - ETA: 0s - loss: 0.3229\n",
            "Saved to /content/images/generated_img_148.png\n"
          ]
        },
        {
          "output_type": "display_data",
          "data": {
            "text/plain": [
              "<Figure size 2000x300 with 10 Axes>"
            ],
            "image/png": "[encoded data removed]"
          },
          "metadata": {}
        },
        {
          "output_type": "stream",
          "name": "stdout",
          "text": [
            "\b\b\b\b\b\b\b\b\b\b\b\b\b\b\b\b\b\b\b\b\b\b\b\b\b\b\b\b\b\b\b\b\b\b\b\b\b\b\b\b\b\b\b\b\b\b\b\b\b\b\b\b\b\b\b\b\b\b\b\b\b\b\b\b\b\r469/469 [==============================] - 20s 42ms/step - loss: 0.3230\n",
            "Epoch 150/150\n",
            "466/469 [============================>.] - ETA: 0s - loss: 0.3230\n",
            "Saved to /content/images/generated_img_149.png\n"
          ]
        },
        {
          "output_type": "display_data",
          "data": {
            "text/plain": [
              "<Figure size 2000x300 with 10 Axes>"
            ],
            "image/png": "[encoded data removed]"
          },
          "metadata": {}
        },
        {
          "output_type": "stream",
          "name": "stdout",
          "text": [
            "\b\b\b\b\b\b\b\b\b\b\b\b\b\b\b\b\b\b\b\b\b\b\b\b\b\b\b\b\b\b\b\b\b\b\b\b\b\b\b\b\b\b\b\b\b\b\b\b\b\b\b\b\b\b\b\b\b\b\b\b\b\b\b\b\b\r469/469 [==============================] - 21s 44ms/step - loss: 0.3230\n"
          ]
        },
        {
          "output_type": "execute_result",
          "data": {
            "text/plain": [
              "<keras.src.callbacks.History at 0x7ceefc15ad70>"
            ]
          },
          "metadata": {},
          "execution_count": 18
        }
      ]
    }
  ]
}