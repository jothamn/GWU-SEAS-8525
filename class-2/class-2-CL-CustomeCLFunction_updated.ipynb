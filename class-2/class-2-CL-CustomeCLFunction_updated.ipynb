{
  "nbformat": 4,
  "nbformat_minor": 0,
  "metadata": {
    "colab": {
      "provenance": [],
      "gpuType": "T4",
      "include_colab_link": true
    },
    "kernelspec": {
      "name": "python3",
      "display_name": "Python 3"
    },
    "language_info": {
      "name": "python"
    },
    "accelerator": "GPU"
  },
  "cells": [
    {
      "cell_type": "markdown",
      "metadata": {
        "id": "view-in-github",
        "colab_type": "text"
      },
      "source": [
        "<a href=\"https://colab.research.google.com/github/jothamn/GWU-SEAS-8525/blob/main/class-2/class-2-CL-CustomeCLFunction_updated.ipynb\" target=\"_parent\"><img src=\"https://colab.research.google.com/assets/colab-badge.svg\" alt=\"Open In Colab\"/></a>"
      ]
    },
    {
      "cell_type": "code",
      "source": [
        "import tensorflow as tf\n",
        "from tensorflow import keras\n",
        "from tensorflow.keras import layers, applications\n",
        "import numpy as np\n",
        "import matplotlib.pyplot as plt\n",
        "from sklearn.manifold import TSNE\n",
        "\n",
        "def preprocess_data(x, y):\n",
        "    x = x.astype(\"float32\") / 255.0\n",
        "    return x, y\n",
        "\n",
        "(x_train, y_train), (x_test, y_test) = keras.datasets.cifar10.load_data()\n",
        "x_train, y_train = preprocess_data(x_train, y_train)\n",
        "x_test, y_test = preprocess_data(x_test, y_test)\n",
        "\n",
        "data_augmentation = keras.Sequential([\n",
        "    layers.RandomFlip(\"horizontal\"),\n",
        "    layers.RandomRotation(0.1),\n",
        "    layers.RandomZoom(0.1),\n",
        "])\n",
        "\n",
        "def create_base_model():\n",
        "    base_model = applications.ResNet50(weights='imagenet', include_top=False, input_shape=(32, 32, 3))\n",
        "    base_model.trainable = False\n",
        "    inputs = keras.Input(shape=(32, 32, 3))\n",
        "    x = data_augmentation(inputs)\n",
        "    x = base_model(x, training=False)\n",
        "    x = layers.GlobalAveragePooling2D()(x)\n",
        "    outputs = layers.Dense(64, activation=None)(x)\n",
        "    return keras.Model(inputs, outputs)\n",
        "\n",
        "def make_pairs(images, labels):\n",
        "    pair_images = []\n",
        "    pair_labels = []\n",
        "    labels = np.squeeze(labels)\n",
        "    num_classes = np.max(labels) + 1\n",
        "    idx = [np.where(labels == i)[0] for i in range(0, num_classes)]\n",
        "\n",
        "    for idxA in range(len(images)):\n",
        "        current_image = images[idxA]\n",
        "        label = labels[idxA]\n",
        "        idxB = np.random.choice(idx[label])\n",
        "        pos_image = images[idxB]\n",
        "        pair_images.append([current_image, pos_image])\n",
        "        pair_labels.append([1])\n",
        "        neg_idx = np.where(labels != label)[0]\n",
        "        neg_image = images[np.random.choice(neg_idx)]\n",
        "        pair_images.append([current_image, neg_image])\n",
        "        pair_labels.append([0])\n",
        "\n",
        "    return np.array(pair_images), np.array(pair_labels)\n",
        "\n",
        "pair_train, label_train = make_pairs(x_train, y_train.flatten())\n",
        "pair_test, label_test = make_pairs(x_test, y_test.flatten())\n",
        "\n",
        "base_network = create_base_model()\n",
        "\n",
        "input_a = layers.Input(shape=(32, 32, 3))\n",
        "input_b = layers.Input(shape=(32, 32, 3))\n",
        "\n",
        "processed_a = base_network(input_a)\n",
        "processed_b = base_network(input_b)\n",
        "\n",
        "# Adjusted contrastive loss function\n",
        "def contrastive_loss(y_true, y_pred):\n",
        "    margin = 1\n",
        "    y_true = tf.cast(y_true, tf.float32)  # Ensure y_true is float32 to match y_pred\n",
        "    square_pred = tf.square(y_pred)\n",
        "    margin_square = tf.square(tf.maximum(margin - y_pred, 0))\n",
        "    return tf.reduce_mean(y_true * square_pred + (1 - y_true) * margin_square)\n",
        "\n",
        "distance = layers.Lambda(lambda embeddings: tf.norm(embeddings[0] - embeddings[1], axis=1, keepdims=True))([processed_a, processed_b])\n",
        "outputs = layers.Dense(1, activation=\"sigmoid\")(distance)\n",
        "model = keras.Model(inputs=[input_a, input_b], outputs=outputs)\n",
        "\n",
        "model.compile(loss=contrastive_loss, optimizer=\"adam\", metrics=[\"accuracy\"])\n",
        "\n",
        "history = model.fit([pair_train[:, 0], pair_train[:, 1]], label_train[:],\n",
        "                    validation_data=([pair_test[:, 0], pair_test[:, 1]], label_test[:]),\n",
        "                    batch_size=32, epochs=10)\n",
        "\n",
        "# Extract representations\n",
        "representations = base_network.predict(x_test)\n",
        "\n",
        "# t-SNE visualization\n",
        "tsne = TSNE(n_components=2, perplexity=30, max_iter=3000)\n",
        "tsne_results = tsne.fit_transform(representations)\n",
        "\n",
        "plt.figure(figsize=(8, 8))\n",
        "plt.scatter(tsne_results[:, 0], tsne_results[:, 1], c=y_test.flatten(), cmap='rainbow')\n",
        "plt.title('t-SNE Visualization of Learned Representations')\n",
        "plt.colorbar()\n",
        "plt.show()"
      ],
      "metadata": {
        "colab": {
          "base_uri": "https://localhost:8080/"
        },
        "outputId": "e4fc7504-3b6b-43a0-d32d-f521a4c20529",
        "id": "tIR4b4x0v75T"
      },
      "execution_count": null,
      "outputs": [
        {
          "output_type": "stream",
          "name": "stdout",
          "text": [
            "Downloading data from https://www.cs.toronto.edu/~kriz/cifar-10-python.tar.gz\n",
            "\u001b[1m170498071/170498071\u001b[0m \u001b[32m━━━━━━━━━━━━━━━━━━━━\u001b[0m\u001b[37m\u001b[0m \u001b[1m11s\u001b[0m 0us/step\n",
            "Downloading data from https://storage.googleapis.com/tensorflow/keras-applications/resnet/resnet50_weights_tf_dim_ordering_tf_kernels_notop.h5\n",
            "\u001b[1m94765736/94765736\u001b[0m \u001b[32m━━━━━━━━━━━━━━━━━━━━\u001b[0m\u001b[37m\u001b[0m \u001b[1m4s\u001b[0m 0us/step\n",
            "Epoch 1/10\n",
            "\u001b[1m2932/3125\u001b[0m \u001b[32m━━━━━━━━━━━━━━━━━━\u001b[0m\u001b[37m━━\u001b[0m \u001b[1m52s\u001b[0m 271ms/step - accuracy: 0.4668 - loss: 0.2512"
          ]
        }
      ]
    },
    {
      "cell_type": "markdown",
      "source": [
        " This code demonstrates the process of training a contrastive learning model on the CIFAR-10 dataset using a pre-trained ResNet50 as the base network. The learned representations are then visualized using t-SNE to assess the quality of the embeddings and the separation of different classes in the embedding space."
      ],
      "metadata": {
        "id": "77Ix44TPDkYX"
      }
    }
  ]
}